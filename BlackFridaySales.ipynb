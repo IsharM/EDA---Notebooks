{
 "cells": [
  {
   "cell_type": "code",
   "execution_count": 196,
   "id": "6c3d84ea",
   "metadata": {},
   "outputs": [],
   "source": [
    "import pandas as pd\n",
    "import numpy as np\n",
    "import matplotlib.pyplot as plt\n",
    "import seaborn as sns\n",
    "%matplotlib inline\n",
    "plt.style.use('ggplot')"
   ]
  },
  {
   "cell_type": "code",
   "execution_count": 197,
   "id": "21449df5",
   "metadata": {},
   "outputs": [
    {
     "data": {
      "text/html": [
       "<div>\n",
       "<style scoped>\n",
       "    .dataframe tbody tr th:only-of-type {\n",
       "        vertical-align: middle;\n",
       "    }\n",
       "\n",
       "    .dataframe tbody tr th {\n",
       "        vertical-align: top;\n",
       "    }\n",
       "\n",
       "    .dataframe thead th {\n",
       "        text-align: right;\n",
       "    }\n",
       "</style>\n",
       "<table border=\"1\" class=\"dataframe\">\n",
       "  <thead>\n",
       "    <tr style=\"text-align: right;\">\n",
       "      <th></th>\n",
       "      <th>User_ID</th>\n",
       "      <th>Product_ID</th>\n",
       "      <th>Gender</th>\n",
       "      <th>Age</th>\n",
       "      <th>Occupation</th>\n",
       "      <th>City_Category</th>\n",
       "      <th>Stay_In_Current_City_Years</th>\n",
       "      <th>Marital_Status</th>\n",
       "      <th>Product_Category_1</th>\n",
       "      <th>Product_Category_2</th>\n",
       "      <th>Product_Category_3</th>\n",
       "      <th>Purchase</th>\n",
       "    </tr>\n",
       "  </thead>\n",
       "  <tbody>\n",
       "    <tr>\n",
       "      <th>0</th>\n",
       "      <td>1000001</td>\n",
       "      <td>P00069042</td>\n",
       "      <td>F</td>\n",
       "      <td>0-17</td>\n",
       "      <td>10</td>\n",
       "      <td>A</td>\n",
       "      <td>2</td>\n",
       "      <td>0</td>\n",
       "      <td>3</td>\n",
       "      <td>NaN</td>\n",
       "      <td>NaN</td>\n",
       "      <td>8370</td>\n",
       "    </tr>\n",
       "    <tr>\n",
       "      <th>1</th>\n",
       "      <td>1000001</td>\n",
       "      <td>P00248942</td>\n",
       "      <td>F</td>\n",
       "      <td>0-17</td>\n",
       "      <td>10</td>\n",
       "      <td>A</td>\n",
       "      <td>2</td>\n",
       "      <td>0</td>\n",
       "      <td>1</td>\n",
       "      <td>6.0</td>\n",
       "      <td>14.0</td>\n",
       "      <td>15200</td>\n",
       "    </tr>\n",
       "    <tr>\n",
       "      <th>2</th>\n",
       "      <td>1000001</td>\n",
       "      <td>P00087842</td>\n",
       "      <td>F</td>\n",
       "      <td>0-17</td>\n",
       "      <td>10</td>\n",
       "      <td>A</td>\n",
       "      <td>2</td>\n",
       "      <td>0</td>\n",
       "      <td>12</td>\n",
       "      <td>NaN</td>\n",
       "      <td>NaN</td>\n",
       "      <td>1422</td>\n",
       "    </tr>\n",
       "    <tr>\n",
       "      <th>3</th>\n",
       "      <td>1000001</td>\n",
       "      <td>P00085442</td>\n",
       "      <td>F</td>\n",
       "      <td>0-17</td>\n",
       "      <td>10</td>\n",
       "      <td>A</td>\n",
       "      <td>2</td>\n",
       "      <td>0</td>\n",
       "      <td>12</td>\n",
       "      <td>14.0</td>\n",
       "      <td>NaN</td>\n",
       "      <td>1057</td>\n",
       "    </tr>\n",
       "    <tr>\n",
       "      <th>4</th>\n",
       "      <td>1000002</td>\n",
       "      <td>P00285442</td>\n",
       "      <td>M</td>\n",
       "      <td>55+</td>\n",
       "      <td>16</td>\n",
       "      <td>C</td>\n",
       "      <td>4+</td>\n",
       "      <td>0</td>\n",
       "      <td>8</td>\n",
       "      <td>NaN</td>\n",
       "      <td>NaN</td>\n",
       "      <td>7969</td>\n",
       "    </tr>\n",
       "  </tbody>\n",
       "</table>\n",
       "</div>"
      ],
      "text/plain": [
       "   User_ID Product_ID Gender   Age  Occupation City_Category  \\\n",
       "0  1000001  P00069042      F  0-17          10             A   \n",
       "1  1000001  P00248942      F  0-17          10             A   \n",
       "2  1000001  P00087842      F  0-17          10             A   \n",
       "3  1000001  P00085442      F  0-17          10             A   \n",
       "4  1000002  P00285442      M   55+          16             C   \n",
       "\n",
       "  Stay_In_Current_City_Years  Marital_Status  Product_Category_1  \\\n",
       "0                          2               0                   3   \n",
       "1                          2               0                   1   \n",
       "2                          2               0                  12   \n",
       "3                          2               0                  12   \n",
       "4                         4+               0                   8   \n",
       "\n",
       "   Product_Category_2  Product_Category_3  Purchase  \n",
       "0                 NaN                 NaN      8370  \n",
       "1                 6.0                14.0     15200  \n",
       "2                 NaN                 NaN      1422  \n",
       "3                14.0                 NaN      1057  \n",
       "4                 NaN                 NaN      7969  "
      ]
     },
     "execution_count": 197,
     "metadata": {},
     "output_type": "execute_result"
    }
   ],
   "source": [
    "df_train = pd.read_csv(r'F:\\DS\\DataSet\\blackfridaysales_archive\\train.csv')\n",
    "df_train.head()"
   ]
  },
  {
   "cell_type": "code",
   "execution_count": 198,
   "id": "4993a44d",
   "metadata": {},
   "outputs": [
    {
     "data": {
      "text/html": [
       "<div>\n",
       "<style scoped>\n",
       "    .dataframe tbody tr th:only-of-type {\n",
       "        vertical-align: middle;\n",
       "    }\n",
       "\n",
       "    .dataframe tbody tr th {\n",
       "        vertical-align: top;\n",
       "    }\n",
       "\n",
       "    .dataframe thead th {\n",
       "        text-align: right;\n",
       "    }\n",
       "</style>\n",
       "<table border=\"1\" class=\"dataframe\">\n",
       "  <thead>\n",
       "    <tr style=\"text-align: right;\">\n",
       "      <th></th>\n",
       "      <th>User_ID</th>\n",
       "      <th>Product_ID</th>\n",
       "      <th>Gender</th>\n",
       "      <th>Age</th>\n",
       "      <th>Occupation</th>\n",
       "      <th>City_Category</th>\n",
       "      <th>Stay_In_Current_City_Years</th>\n",
       "      <th>Marital_Status</th>\n",
       "      <th>Product_Category_1</th>\n",
       "      <th>Product_Category_2</th>\n",
       "      <th>Product_Category_3</th>\n",
       "    </tr>\n",
       "  </thead>\n",
       "  <tbody>\n",
       "    <tr>\n",
       "      <th>0</th>\n",
       "      <td>1000004</td>\n",
       "      <td>P00128942</td>\n",
       "      <td>M</td>\n",
       "      <td>46-50</td>\n",
       "      <td>7</td>\n",
       "      <td>B</td>\n",
       "      <td>2</td>\n",
       "      <td>1</td>\n",
       "      <td>1</td>\n",
       "      <td>11.0</td>\n",
       "      <td>NaN</td>\n",
       "    </tr>\n",
       "    <tr>\n",
       "      <th>1</th>\n",
       "      <td>1000009</td>\n",
       "      <td>P00113442</td>\n",
       "      <td>M</td>\n",
       "      <td>26-35</td>\n",
       "      <td>17</td>\n",
       "      <td>C</td>\n",
       "      <td>0</td>\n",
       "      <td>0</td>\n",
       "      <td>3</td>\n",
       "      <td>5.0</td>\n",
       "      <td>NaN</td>\n",
       "    </tr>\n",
       "    <tr>\n",
       "      <th>2</th>\n",
       "      <td>1000010</td>\n",
       "      <td>P00288442</td>\n",
       "      <td>F</td>\n",
       "      <td>36-45</td>\n",
       "      <td>1</td>\n",
       "      <td>B</td>\n",
       "      <td>4+</td>\n",
       "      <td>1</td>\n",
       "      <td>5</td>\n",
       "      <td>14.0</td>\n",
       "      <td>NaN</td>\n",
       "    </tr>\n",
       "    <tr>\n",
       "      <th>3</th>\n",
       "      <td>1000010</td>\n",
       "      <td>P00145342</td>\n",
       "      <td>F</td>\n",
       "      <td>36-45</td>\n",
       "      <td>1</td>\n",
       "      <td>B</td>\n",
       "      <td>4+</td>\n",
       "      <td>1</td>\n",
       "      <td>4</td>\n",
       "      <td>9.0</td>\n",
       "      <td>NaN</td>\n",
       "    </tr>\n",
       "    <tr>\n",
       "      <th>4</th>\n",
       "      <td>1000011</td>\n",
       "      <td>P00053842</td>\n",
       "      <td>F</td>\n",
       "      <td>26-35</td>\n",
       "      <td>1</td>\n",
       "      <td>C</td>\n",
       "      <td>1</td>\n",
       "      <td>0</td>\n",
       "      <td>4</td>\n",
       "      <td>5.0</td>\n",
       "      <td>12.0</td>\n",
       "    </tr>\n",
       "  </tbody>\n",
       "</table>\n",
       "</div>"
      ],
      "text/plain": [
       "   User_ID Product_ID Gender    Age  Occupation City_Category  \\\n",
       "0  1000004  P00128942      M  46-50           7             B   \n",
       "1  1000009  P00113442      M  26-35          17             C   \n",
       "2  1000010  P00288442      F  36-45           1             B   \n",
       "3  1000010  P00145342      F  36-45           1             B   \n",
       "4  1000011  P00053842      F  26-35           1             C   \n",
       "\n",
       "  Stay_In_Current_City_Years  Marital_Status  Product_Category_1  \\\n",
       "0                          2               1                   1   \n",
       "1                          0               0                   3   \n",
       "2                         4+               1                   5   \n",
       "3                         4+               1                   4   \n",
       "4                          1               0                   4   \n",
       "\n",
       "   Product_Category_2  Product_Category_3  \n",
       "0                11.0                 NaN  \n",
       "1                 5.0                 NaN  \n",
       "2                14.0                 NaN  \n",
       "3                 9.0                 NaN  \n",
       "4                 5.0                12.0  "
      ]
     },
     "execution_count": 198,
     "metadata": {},
     "output_type": "execute_result"
    }
   ],
   "source": [
    "df_test = pd.read_csv(r'F:\\DS\\DataSet\\blackfridaysales_archive\\test.csv')\n",
    "df_test.head()"
   ]
  },
  {
   "cell_type": "code",
   "execution_count": 199,
   "id": "dca2f393",
   "metadata": {},
   "outputs": [
    {
     "data": {
      "text/plain": [
       "(550068, 12)"
      ]
     },
     "execution_count": 199,
     "metadata": {},
     "output_type": "execute_result"
    }
   ],
   "source": [
    "df_train.shape"
   ]
  },
  {
   "cell_type": "code",
   "execution_count": 200,
   "id": "afef335f",
   "metadata": {},
   "outputs": [
    {
     "data": {
      "text/plain": [
       "(233599, 11)"
      ]
     },
     "execution_count": 200,
     "metadata": {},
     "output_type": "execute_result"
    }
   ],
   "source": [
    "df_test.shape"
   ]
  },
  {
   "cell_type": "code",
   "execution_count": 201,
   "id": "2ca67eb7",
   "metadata": {},
   "outputs": [
    {
     "data": {
      "text/plain": [
       "Index(['User_ID', 'Product_ID', 'Gender', 'Age', 'Occupation', 'City_Category',\n",
       "       'Stay_In_Current_City_Years', 'Marital_Status', 'Product_Category_1',\n",
       "       'Product_Category_2', 'Product_Category_3', 'Purchase'],\n",
       "      dtype='object')"
      ]
     },
     "execution_count": 201,
     "metadata": {},
     "output_type": "execute_result"
    }
   ],
   "source": [
    "df_train.columns"
   ]
  },
  {
   "cell_type": "code",
   "execution_count": 202,
   "id": "41395dfc",
   "metadata": {},
   "outputs": [
    {
     "data": {
      "text/plain": [
       "Index(['User_ID', 'Product_ID', 'Gender', 'Age', 'Occupation', 'City_Category',\n",
       "       'Stay_In_Current_City_Years', 'Marital_Status', 'Product_Category_1',\n",
       "       'Product_Category_2', 'Product_Category_3'],\n",
       "      dtype='object')"
      ]
     },
     "execution_count": 202,
     "metadata": {},
     "output_type": "execute_result"
    }
   ],
   "source": [
    "df_test.columns"
   ]
  },
  {
   "cell_type": "code",
   "execution_count": 203,
   "id": "87991f59",
   "metadata": {},
   "outputs": [
    {
     "data": {
      "text/html": [
       "<div>\n",
       "<style scoped>\n",
       "    .dataframe tbody tr th:only-of-type {\n",
       "        vertical-align: middle;\n",
       "    }\n",
       "\n",
       "    .dataframe tbody tr th {\n",
       "        vertical-align: top;\n",
       "    }\n",
       "\n",
       "    .dataframe thead th {\n",
       "        text-align: right;\n",
       "    }\n",
       "</style>\n",
       "<table border=\"1\" class=\"dataframe\">\n",
       "  <thead>\n",
       "    <tr style=\"text-align: right;\">\n",
       "      <th></th>\n",
       "      <th>User_ID</th>\n",
       "      <th>Product_ID</th>\n",
       "      <th>Gender</th>\n",
       "      <th>Age</th>\n",
       "      <th>Occupation</th>\n",
       "      <th>City_Category</th>\n",
       "      <th>Stay_In_Current_City_Years</th>\n",
       "      <th>Marital_Status</th>\n",
       "      <th>Product_Category_1</th>\n",
       "      <th>Product_Category_2</th>\n",
       "      <th>Product_Category_3</th>\n",
       "      <th>Purchase</th>\n",
       "    </tr>\n",
       "  </thead>\n",
       "  <tbody>\n",
       "    <tr>\n",
       "      <th>0</th>\n",
       "      <td>1000001</td>\n",
       "      <td>P00069042</td>\n",
       "      <td>F</td>\n",
       "      <td>0-17</td>\n",
       "      <td>10</td>\n",
       "      <td>A</td>\n",
       "      <td>2</td>\n",
       "      <td>0</td>\n",
       "      <td>3</td>\n",
       "      <td>NaN</td>\n",
       "      <td>NaN</td>\n",
       "      <td>8370.0</td>\n",
       "    </tr>\n",
       "    <tr>\n",
       "      <th>1</th>\n",
       "      <td>1000001</td>\n",
       "      <td>P00248942</td>\n",
       "      <td>F</td>\n",
       "      <td>0-17</td>\n",
       "      <td>10</td>\n",
       "      <td>A</td>\n",
       "      <td>2</td>\n",
       "      <td>0</td>\n",
       "      <td>1</td>\n",
       "      <td>6.0</td>\n",
       "      <td>14.0</td>\n",
       "      <td>15200.0</td>\n",
       "    </tr>\n",
       "    <tr>\n",
       "      <th>2</th>\n",
       "      <td>1000001</td>\n",
       "      <td>P00087842</td>\n",
       "      <td>F</td>\n",
       "      <td>0-17</td>\n",
       "      <td>10</td>\n",
       "      <td>A</td>\n",
       "      <td>2</td>\n",
       "      <td>0</td>\n",
       "      <td>12</td>\n",
       "      <td>NaN</td>\n",
       "      <td>NaN</td>\n",
       "      <td>1422.0</td>\n",
       "    </tr>\n",
       "    <tr>\n",
       "      <th>3</th>\n",
       "      <td>1000001</td>\n",
       "      <td>P00085442</td>\n",
       "      <td>F</td>\n",
       "      <td>0-17</td>\n",
       "      <td>10</td>\n",
       "      <td>A</td>\n",
       "      <td>2</td>\n",
       "      <td>0</td>\n",
       "      <td>12</td>\n",
       "      <td>14.0</td>\n",
       "      <td>NaN</td>\n",
       "      <td>1057.0</td>\n",
       "    </tr>\n",
       "    <tr>\n",
       "      <th>4</th>\n",
       "      <td>1000002</td>\n",
       "      <td>P00285442</td>\n",
       "      <td>M</td>\n",
       "      <td>55+</td>\n",
       "      <td>16</td>\n",
       "      <td>C</td>\n",
       "      <td>4+</td>\n",
       "      <td>0</td>\n",
       "      <td>8</td>\n",
       "      <td>NaN</td>\n",
       "      <td>NaN</td>\n",
       "      <td>7969.0</td>\n",
       "    </tr>\n",
       "  </tbody>\n",
       "</table>\n",
       "</div>"
      ],
      "text/plain": [
       "   User_ID Product_ID Gender   Age  Occupation City_Category  \\\n",
       "0  1000001  P00069042      F  0-17          10             A   \n",
       "1  1000001  P00248942      F  0-17          10             A   \n",
       "2  1000001  P00087842      F  0-17          10             A   \n",
       "3  1000001  P00085442      F  0-17          10             A   \n",
       "4  1000002  P00285442      M   55+          16             C   \n",
       "\n",
       "  Stay_In_Current_City_Years  Marital_Status  Product_Category_1  \\\n",
       "0                          2               0                   3   \n",
       "1                          2               0                   1   \n",
       "2                          2               0                  12   \n",
       "3                          2               0                  12   \n",
       "4                         4+               0                   8   \n",
       "\n",
       "   Product_Category_2  Product_Category_3  Purchase  \n",
       "0                 NaN                 NaN    8370.0  \n",
       "1                 6.0                14.0   15200.0  \n",
       "2                 NaN                 NaN    1422.0  \n",
       "3                14.0                 NaN    1057.0  \n",
       "4                 NaN                 NaN    7969.0  "
      ]
     },
     "execution_count": 203,
     "metadata": {},
     "output_type": "execute_result"
    }
   ],
   "source": [
    "df = pd.concat([df_train,df_test],axis=0)\n",
    "df.head()"
   ]
  },
  {
   "cell_type": "code",
   "execution_count": 204,
   "id": "c1f19cf7",
   "metadata": {},
   "outputs": [],
   "source": [
    "#deleting User_ID col as we wont need it\n",
    "df.drop(['User_ID','Product_ID'],axis=1,inplace=True)"
   ]
  },
  {
   "cell_type": "code",
   "execution_count": 205,
   "id": "4779f560",
   "metadata": {},
   "outputs": [
    {
     "data": {
      "text/plain": [
       "Index(['Gender', 'Age', 'Occupation', 'City_Category',\n",
       "       'Stay_In_Current_City_Years', 'Marital_Status', 'Product_Category_1',\n",
       "       'Product_Category_2', 'Product_Category_3', 'Purchase'],\n",
       "      dtype='object')"
      ]
     },
     "execution_count": 205,
     "metadata": {},
     "output_type": "execute_result"
    }
   ],
   "source": [
    "df.columns"
   ]
  },
  {
   "cell_type": "code",
   "execution_count": 206,
   "id": "7c111e7e",
   "metadata": {},
   "outputs": [
    {
     "data": {
      "text/plain": [
       "<AxesSubplot:ylabel='None'>"
      ]
     },
     "execution_count": 206,
     "metadata": {},
     "output_type": "execute_result"
    },
    {
     "data": {
      "image/png": "[encoded data removed]",
      "text/plain": [
       "<Figure size 432x288 with 1 Axes>"
      ]
     },
     "metadata": {},
     "output_type": "display_data"
    }
   ],
   "source": [
    "df.dtypes.value_counts().plot.pie(explode = [0.1,0.1,0.1],\n",
    "                                    autopct = '%1.2f%%', shadow = True)"
   ]
  },
  {
   "cell_type": "markdown",
   "id": "ef2b230b",
   "metadata": {},
   "source": [
    "###### Check for Null values"
   ]
  },
  {
   "cell_type": "code",
   "execution_count": 207,
   "id": "e5bacf88",
   "metadata": {},
   "outputs": [
    {
     "data": {
      "text/html": [
       "<div>\n",
       "<style scoped>\n",
       "    .dataframe tbody tr th:only-of-type {\n",
       "        vertical-align: middle;\n",
       "    }\n",
       "\n",
       "    .dataframe tbody tr th {\n",
       "        vertical-align: top;\n",
       "    }\n",
       "\n",
       "    .dataframe thead th {\n",
       "        text-align: right;\n",
       "    }\n",
       "</style>\n",
       "<table border=\"1\" class=\"dataframe\">\n",
       "  <thead>\n",
       "    <tr style=\"text-align: right;\">\n",
       "      <th></th>\n",
       "      <th>ColumnName</th>\n",
       "      <th>NullCount</th>\n",
       "    </tr>\n",
       "  </thead>\n",
       "  <tbody>\n",
       "    <tr>\n",
       "      <th>0</th>\n",
       "      <td>Gender</td>\n",
       "      <td>0</td>\n",
       "    </tr>\n",
       "    <tr>\n",
       "      <th>1</th>\n",
       "      <td>Age</td>\n",
       "      <td>0</td>\n",
       "    </tr>\n",
       "    <tr>\n",
       "      <th>2</th>\n",
       "      <td>Occupation</td>\n",
       "      <td>0</td>\n",
       "    </tr>\n",
       "    <tr>\n",
       "      <th>3</th>\n",
       "      <td>City_Category</td>\n",
       "      <td>0</td>\n",
       "    </tr>\n",
       "    <tr>\n",
       "      <th>4</th>\n",
       "      <td>Stay_In_Current_City_Years</td>\n",
       "      <td>0</td>\n",
       "    </tr>\n",
       "    <tr>\n",
       "      <th>5</th>\n",
       "      <td>Marital_Status</td>\n",
       "      <td>0</td>\n",
       "    </tr>\n",
       "    <tr>\n",
       "      <th>6</th>\n",
       "      <td>Product_Category_1</td>\n",
       "      <td>0</td>\n",
       "    </tr>\n",
       "    <tr>\n",
       "      <th>7</th>\n",
       "      <td>Product_Category_2</td>\n",
       "      <td>245982</td>\n",
       "    </tr>\n",
       "    <tr>\n",
       "      <th>8</th>\n",
       "      <td>Product_Category_3</td>\n",
       "      <td>545809</td>\n",
       "    </tr>\n",
       "    <tr>\n",
       "      <th>9</th>\n",
       "      <td>Purchase</td>\n",
       "      <td>233599</td>\n",
       "    </tr>\n",
       "  </tbody>\n",
       "</table>\n",
       "</div>"
      ],
      "text/plain": [
       "                   ColumnName  NullCount\n",
       "0                      Gender          0\n",
       "1                         Age          0\n",
       "2                  Occupation          0\n",
       "3               City_Category          0\n",
       "4  Stay_In_Current_City_Years          0\n",
       "5              Marital_Status          0\n",
       "6          Product_Category_1          0\n",
       "7          Product_Category_2     245982\n",
       "8          Product_Category_3     545809\n",
       "9                    Purchase     233599"
      ]
     },
     "execution_count": 207,
     "metadata": {},
     "output_type": "execute_result"
    }
   ],
   "source": [
    "df.isna().sum().reset_index().rename(columns={'index':'ColumnName',0:'NullCount'})"
   ]
  },
  {
   "cell_type": "code",
   "execution_count": 208,
   "id": "82a3bd67",
   "metadata": {},
   "outputs": [
    {
     "data": {
      "image/png": "[encoded data removed]",
      "text/plain": [
       "<Figure size 432x288 with 1 Axes>"
      ]
     },
     "metadata": {},
     "output_type": "display_data"
    }
   ],
   "source": [
    "missing_values = df.drop(['Purchase'],axis=1).isnull().sum()\n",
    "missing_values = missing_values[missing_values > 0]\n",
    "missing_values.sort_values(inplace=True)\n",
    "missing_values.plot.pie(explode = [0.1,0.1], autopct = '%1.1f%%', shadow = True);"
   ]
  },
  {
   "cell_type": "code",
   "execution_count": 209,
   "id": "831f26f8",
   "metadata": {},
   "outputs": [
    {
     "data": {
      "text/plain": [
       "Product_Category_2    245982\n",
       "Product_Category_3    545809\n",
       "dtype: int64"
      ]
     },
     "execution_count": 209,
     "metadata": {},
     "output_type": "execute_result"
    }
   ],
   "source": [
    "missing_values"
   ]
  },
  {
   "cell_type": "markdown",
   "id": "0ab24955",
   "metadata": {},
   "source": [
    "###### Inspecting Categorical columns"
   ]
  },
  {
   "cell_type": "code",
   "execution_count": 210,
   "id": "106e5231",
   "metadata": {},
   "outputs": [
    {
     "data": {
      "text/html": [
       "<div>\n",
       "<style scoped>\n",
       "    .dataframe tbody tr th:only-of-type {\n",
       "        vertical-align: middle;\n",
       "    }\n",
       "\n",
       "    .dataframe tbody tr th {\n",
       "        vertical-align: top;\n",
       "    }\n",
       "\n",
       "    .dataframe thead th {\n",
       "        text-align: right;\n",
       "    }\n",
       "</style>\n",
       "<table border=\"1\" class=\"dataframe\">\n",
       "  <thead>\n",
       "    <tr style=\"text-align: right;\">\n",
       "      <th></th>\n",
       "      <th>Gender</th>\n",
       "      <th>Count</th>\n",
       "    </tr>\n",
       "  </thead>\n",
       "  <tbody>\n",
       "    <tr>\n",
       "      <th>0</th>\n",
       "      <td>M</td>\n",
       "      <td>590031</td>\n",
       "    </tr>\n",
       "    <tr>\n",
       "      <th>1</th>\n",
       "      <td>F</td>\n",
       "      <td>193636</td>\n",
       "    </tr>\n",
       "  </tbody>\n",
       "</table>\n",
       "</div>"
      ],
      "text/plain": [
       "  Gender   Count\n",
       "0      M  590031\n",
       "1      F  193636"
      ]
     },
     "metadata": {},
     "output_type": "display_data"
    },
    {
     "data": {
      "text/html": [
       "<div>\n",
       "<style scoped>\n",
       "    .dataframe tbody tr th:only-of-type {\n",
       "        vertical-align: middle;\n",
       "    }\n",
       "\n",
       "    .dataframe tbody tr th {\n",
       "        vertical-align: top;\n",
       "    }\n",
       "\n",
       "    .dataframe thead th {\n",
       "        text-align: right;\n",
       "    }\n",
       "</style>\n",
       "<table border=\"1\" class=\"dataframe\">\n",
       "  <thead>\n",
       "    <tr style=\"text-align: right;\">\n",
       "      <th></th>\n",
       "      <th>Age</th>\n",
       "      <th>Count</th>\n",
       "    </tr>\n",
       "  </thead>\n",
       "  <tbody>\n",
       "    <tr>\n",
       "      <th>0</th>\n",
       "      <td>26-35</td>\n",
       "      <td>313015</td>\n",
       "    </tr>\n",
       "    <tr>\n",
       "      <th>1</th>\n",
       "      <td>36-45</td>\n",
       "      <td>156724</td>\n",
       "    </tr>\n",
       "    <tr>\n",
       "      <th>2</th>\n",
       "      <td>18-25</td>\n",
       "      <td>141953</td>\n",
       "    </tr>\n",
       "    <tr>\n",
       "      <th>3</th>\n",
       "      <td>46-50</td>\n",
       "      <td>65278</td>\n",
       "    </tr>\n",
       "    <tr>\n",
       "      <th>4</th>\n",
       "      <td>51-55</td>\n",
       "      <td>54784</td>\n",
       "    </tr>\n",
       "    <tr>\n",
       "      <th>5</th>\n",
       "      <td>55+</td>\n",
       "      <td>30579</td>\n",
       "    </tr>\n",
       "    <tr>\n",
       "      <th>6</th>\n",
       "      <td>0-17</td>\n",
       "      <td>21334</td>\n",
       "    </tr>\n",
       "  </tbody>\n",
       "</table>\n",
       "</div>"
      ],
      "text/plain": [
       "     Age   Count\n",
       "0  26-35  313015\n",
       "1  36-45  156724\n",
       "2  18-25  141953\n",
       "3  46-50   65278\n",
       "4  51-55   54784\n",
       "5    55+   30579\n",
       "6   0-17   21334"
      ]
     },
     "metadata": {},
     "output_type": "display_data"
    },
    {
     "data": {
      "text/html": [
       "<div>\n",
       "<style scoped>\n",
       "    .dataframe tbody tr th:only-of-type {\n",
       "        vertical-align: middle;\n",
       "    }\n",
       "\n",
       "    .dataframe tbody tr th {\n",
       "        vertical-align: top;\n",
       "    }\n",
       "\n",
       "    .dataframe thead th {\n",
       "        text-align: right;\n",
       "    }\n",
       "</style>\n",
       "<table border=\"1\" class=\"dataframe\">\n",
       "  <thead>\n",
       "    <tr style=\"text-align: right;\">\n",
       "      <th></th>\n",
       "      <th>Occupation</th>\n",
       "      <th>Count</th>\n",
       "    </tr>\n",
       "  </thead>\n",
       "  <tbody>\n",
       "    <tr>\n",
       "      <th>0</th>\n",
       "      <td>4</td>\n",
       "      <td>103086</td>\n",
       "    </tr>\n",
       "    <tr>\n",
       "      <th>1</th>\n",
       "      <td>0</td>\n",
       "      <td>98850</td>\n",
       "    </tr>\n",
       "    <tr>\n",
       "      <th>2</th>\n",
       "      <td>7</td>\n",
       "      <td>84127</td>\n",
       "    </tr>\n",
       "    <tr>\n",
       "      <th>3</th>\n",
       "      <td>1</td>\n",
       "      <td>67687</td>\n",
       "    </tr>\n",
       "    <tr>\n",
       "      <th>4</th>\n",
       "      <td>17</td>\n",
       "      <td>57418</td>\n",
       "    </tr>\n",
       "    <tr>\n",
       "      <th>5</th>\n",
       "      <td>20</td>\n",
       "      <td>47840</td>\n",
       "    </tr>\n",
       "    <tr>\n",
       "      <th>6</th>\n",
       "      <td>12</td>\n",
       "      <td>44448</td>\n",
       "    </tr>\n",
       "    <tr>\n",
       "      <th>7</th>\n",
       "      <td>14</td>\n",
       "      <td>38782</td>\n",
       "    </tr>\n",
       "    <tr>\n",
       "      <th>8</th>\n",
       "      <td>2</td>\n",
       "      <td>37996</td>\n",
       "    </tr>\n",
       "    <tr>\n",
       "      <th>9</th>\n",
       "      <td>16</td>\n",
       "      <td>36122</td>\n",
       "    </tr>\n",
       "    <tr>\n",
       "      <th>10</th>\n",
       "      <td>6</td>\n",
       "      <td>29102</td>\n",
       "    </tr>\n",
       "    <tr>\n",
       "      <th>11</th>\n",
       "      <td>3</td>\n",
       "      <td>25126</td>\n",
       "    </tr>\n",
       "    <tr>\n",
       "      <th>12</th>\n",
       "      <td>10</td>\n",
       "      <td>18304</td>\n",
       "    </tr>\n",
       "    <tr>\n",
       "      <th>13</th>\n",
       "      <td>5</td>\n",
       "      <td>17373</td>\n",
       "    </tr>\n",
       "    <tr>\n",
       "      <th>14</th>\n",
       "      <td>15</td>\n",
       "      <td>17356</td>\n",
       "    </tr>\n",
       "    <tr>\n",
       "      <th>15</th>\n",
       "      <td>11</td>\n",
       "      <td>16593</td>\n",
       "    </tr>\n",
       "    <tr>\n",
       "      <th>16</th>\n",
       "      <td>19</td>\n",
       "      <td>11919</td>\n",
       "    </tr>\n",
       "    <tr>\n",
       "      <th>17</th>\n",
       "      <td>13</td>\n",
       "      <td>11053</td>\n",
       "    </tr>\n",
       "    <tr>\n",
       "      <th>18</th>\n",
       "      <td>18</td>\n",
       "      <td>9367</td>\n",
       "    </tr>\n",
       "    <tr>\n",
       "      <th>19</th>\n",
       "      <td>9</td>\n",
       "      <td>8929</td>\n",
       "    </tr>\n",
       "    <tr>\n",
       "      <th>20</th>\n",
       "      <td>8</td>\n",
       "      <td>2189</td>\n",
       "    </tr>\n",
       "  </tbody>\n",
       "</table>\n",
       "</div>"
      ],
      "text/plain": [
       "    Occupation   Count\n",
       "0            4  103086\n",
       "1            0   98850\n",
       "2            7   84127\n",
       "3            1   67687\n",
       "4           17   57418\n",
       "5           20   47840\n",
       "6           12   44448\n",
       "7           14   38782\n",
       "8            2   37996\n",
       "9           16   36122\n",
       "10           6   29102\n",
       "11           3   25126\n",
       "12          10   18304\n",
       "13           5   17373\n",
       "14          15   17356\n",
       "15          11   16593\n",
       "16          19   11919\n",
       "17          13   11053\n",
       "18          18    9367\n",
       "19           9    8929\n",
       "20           8    2189"
      ]
     },
     "metadata": {},
     "output_type": "display_data"
    },
    {
     "data": {
      "text/html": [
       "<div>\n",
       "<style scoped>\n",
       "    .dataframe tbody tr th:only-of-type {\n",
       "        vertical-align: middle;\n",
       "    }\n",
       "\n",
       "    .dataframe tbody tr th {\n",
       "        vertical-align: top;\n",
       "    }\n",
       "\n",
       "    .dataframe thead th {\n",
       "        text-align: right;\n",
       "    }\n",
       "</style>\n",
       "<table border=\"1\" class=\"dataframe\">\n",
       "  <thead>\n",
       "    <tr style=\"text-align: right;\">\n",
       "      <th></th>\n",
       "      <th>City_Category</th>\n",
       "      <th>Count</th>\n",
       "    </tr>\n",
       "  </thead>\n",
       "  <tbody>\n",
       "    <tr>\n",
       "      <th>0</th>\n",
       "      <td>B</td>\n",
       "      <td>329739</td>\n",
       "    </tr>\n",
       "    <tr>\n",
       "      <th>1</th>\n",
       "      <td>C</td>\n",
       "      <td>243684</td>\n",
       "    </tr>\n",
       "    <tr>\n",
       "      <th>2</th>\n",
       "      <td>A</td>\n",
       "      <td>210244</td>\n",
       "    </tr>\n",
       "  </tbody>\n",
       "</table>\n",
       "</div>"
      ],
      "text/plain": [
       "  City_Category   Count\n",
       "0             B  329739\n",
       "1             C  243684\n",
       "2             A  210244"
      ]
     },
     "metadata": {},
     "output_type": "display_data"
    },
    {
     "data": {
      "text/html": [
       "<div>\n",
       "<style scoped>\n",
       "    .dataframe tbody tr th:only-of-type {\n",
       "        vertical-align: middle;\n",
       "    }\n",
       "\n",
       "    .dataframe tbody tr th {\n",
       "        vertical-align: top;\n",
       "    }\n",
       "\n",
       "    .dataframe thead th {\n",
       "        text-align: right;\n",
       "    }\n",
       "</style>\n",
       "<table border=\"1\" class=\"dataframe\">\n",
       "  <thead>\n",
       "    <tr style=\"text-align: right;\">\n",
       "      <th></th>\n",
       "      <th>Stay_In_Current_City_Years</th>\n",
       "      <th>Count</th>\n",
       "    </tr>\n",
       "  </thead>\n",
       "  <tbody>\n",
       "    <tr>\n",
       "      <th>0</th>\n",
       "      <td>1</td>\n",
       "      <td>276425</td>\n",
       "    </tr>\n",
       "    <tr>\n",
       "      <th>1</th>\n",
       "      <td>2</td>\n",
       "      <td>145427</td>\n",
       "    </tr>\n",
       "    <tr>\n",
       "      <th>2</th>\n",
       "      <td>3</td>\n",
       "      <td>135428</td>\n",
       "    </tr>\n",
       "    <tr>\n",
       "      <th>3</th>\n",
       "      <td>4+</td>\n",
       "      <td>120671</td>\n",
       "    </tr>\n",
       "    <tr>\n",
       "      <th>4</th>\n",
       "      <td>0</td>\n",
       "      <td>105716</td>\n",
       "    </tr>\n",
       "  </tbody>\n",
       "</table>\n",
       "</div>"
      ],
      "text/plain": [
       "  Stay_In_Current_City_Years   Count\n",
       "0                          1  276425\n",
       "1                          2  145427\n",
       "2                          3  135428\n",
       "3                         4+  120671\n",
       "4                          0  105716"
      ]
     },
     "metadata": {},
     "output_type": "display_data"
    },
    {
     "data": {
      "text/html": [
       "<div>\n",
       "<style scoped>\n",
       "    .dataframe tbody tr th:only-of-type {\n",
       "        vertical-align: middle;\n",
       "    }\n",
       "\n",
       "    .dataframe tbody tr th {\n",
       "        vertical-align: top;\n",
       "    }\n",
       "\n",
       "    .dataframe thead th {\n",
       "        text-align: right;\n",
       "    }\n",
       "</style>\n",
       "<table border=\"1\" class=\"dataframe\">\n",
       "  <thead>\n",
       "    <tr style=\"text-align: right;\">\n",
       "      <th></th>\n",
       "      <th>Marital_Status</th>\n",
       "      <th>Count</th>\n",
       "    </tr>\n",
       "  </thead>\n",
       "  <tbody>\n",
       "    <tr>\n",
       "      <th>0</th>\n",
       "      <td>0</td>\n",
       "      <td>462538</td>\n",
       "    </tr>\n",
       "    <tr>\n",
       "      <th>1</th>\n",
       "      <td>1</td>\n",
       "      <td>321129</td>\n",
       "    </tr>\n",
       "  </tbody>\n",
       "</table>\n",
       "</div>"
      ],
      "text/plain": [
       "   Marital_Status   Count\n",
       "0               0  462538\n",
       "1               1  321129"
      ]
     },
     "metadata": {},
     "output_type": "display_data"
    },
    {
     "data": {
      "text/html": [
       "<div>\n",
       "<style scoped>\n",
       "    .dataframe tbody tr th:only-of-type {\n",
       "        vertical-align: middle;\n",
       "    }\n",
       "\n",
       "    .dataframe tbody tr th {\n",
       "        vertical-align: top;\n",
       "    }\n",
       "\n",
       "    .dataframe thead th {\n",
       "        text-align: right;\n",
       "    }\n",
       "</style>\n",
       "<table border=\"1\" class=\"dataframe\">\n",
       "  <thead>\n",
       "    <tr style=\"text-align: right;\">\n",
       "      <th></th>\n",
       "      <th>Product_Category_1</th>\n",
       "      <th>Count</th>\n",
       "    </tr>\n",
       "  </thead>\n",
       "  <tbody>\n",
       "    <tr>\n",
       "      <th>0</th>\n",
       "      <td>5</td>\n",
       "      <td>215950</td>\n",
       "    </tr>\n",
       "    <tr>\n",
       "      <th>1</th>\n",
       "      <td>1</td>\n",
       "      <td>200699</td>\n",
       "    </tr>\n",
       "    <tr>\n",
       "      <th>2</th>\n",
       "      <td>8</td>\n",
       "      <td>162294</td>\n",
       "    </tr>\n",
       "    <tr>\n",
       "      <th>3</th>\n",
       "      <td>11</td>\n",
       "      <td>34440</td>\n",
       "    </tr>\n",
       "    <tr>\n",
       "      <th>4</th>\n",
       "      <td>2</td>\n",
       "      <td>34056</td>\n",
       "    </tr>\n",
       "    <tr>\n",
       "      <th>5</th>\n",
       "      <td>6</td>\n",
       "      <td>29326</td>\n",
       "    </tr>\n",
       "    <tr>\n",
       "      <th>6</th>\n",
       "      <td>3</td>\n",
       "      <td>28791</td>\n",
       "    </tr>\n",
       "    <tr>\n",
       "      <th>7</th>\n",
       "      <td>4</td>\n",
       "      <td>16756</td>\n",
       "    </tr>\n",
       "    <tr>\n",
       "      <th>8</th>\n",
       "      <td>16</td>\n",
       "      <td>13933</td>\n",
       "    </tr>\n",
       "    <tr>\n",
       "      <th>9</th>\n",
       "      <td>15</td>\n",
       "      <td>8984</td>\n",
       "    </tr>\n",
       "    <tr>\n",
       "      <th>10</th>\n",
       "      <td>13</td>\n",
       "      <td>7930</td>\n",
       "    </tr>\n",
       "    <tr>\n",
       "      <th>11</th>\n",
       "      <td>10</td>\n",
       "      <td>7373</td>\n",
       "    </tr>\n",
       "    <tr>\n",
       "      <th>12</th>\n",
       "      <td>12</td>\n",
       "      <td>5610</td>\n",
       "    </tr>\n",
       "    <tr>\n",
       "      <th>13</th>\n",
       "      <td>7</td>\n",
       "      <td>5345</td>\n",
       "    </tr>\n",
       "    <tr>\n",
       "      <th>14</th>\n",
       "      <td>18</td>\n",
       "      <td>4436</td>\n",
       "    </tr>\n",
       "    <tr>\n",
       "      <th>15</th>\n",
       "      <td>20</td>\n",
       "      <td>2550</td>\n",
       "    </tr>\n",
       "    <tr>\n",
       "      <th>16</th>\n",
       "      <td>14</td>\n",
       "      <td>2186</td>\n",
       "    </tr>\n",
       "    <tr>\n",
       "      <th>17</th>\n",
       "      <td>19</td>\n",
       "      <td>1603</td>\n",
       "    </tr>\n",
       "    <tr>\n",
       "      <th>18</th>\n",
       "      <td>17</td>\n",
       "      <td>801</td>\n",
       "    </tr>\n",
       "    <tr>\n",
       "      <th>19</th>\n",
       "      <td>9</td>\n",
       "      <td>604</td>\n",
       "    </tr>\n",
       "  </tbody>\n",
       "</table>\n",
       "</div>"
      ],
      "text/plain": [
       "    Product_Category_1   Count\n",
       "0                    5  215950\n",
       "1                    1  200699\n",
       "2                    8  162294\n",
       "3                   11   34440\n",
       "4                    2   34056\n",
       "5                    6   29326\n",
       "6                    3   28791\n",
       "7                    4   16756\n",
       "8                   16   13933\n",
       "9                   15    8984\n",
       "10                  13    7930\n",
       "11                  10    7373\n",
       "12                  12    5610\n",
       "13                   7    5345\n",
       "14                  18    4436\n",
       "15                  20    2550\n",
       "16                  14    2186\n",
       "17                  19    1603\n",
       "18                  17     801\n",
       "19                   9     604"
      ]
     },
     "metadata": {},
     "output_type": "display_data"
    },
    {
     "data": {
      "text/html": [
       "<div>\n",
       "<style scoped>\n",
       "    .dataframe tbody tr th:only-of-type {\n",
       "        vertical-align: middle;\n",
       "    }\n",
       "\n",
       "    .dataframe tbody tr th {\n",
       "        vertical-align: top;\n",
       "    }\n",
       "\n",
       "    .dataframe thead th {\n",
       "        text-align: right;\n",
       "    }\n",
       "</style>\n",
       "<table border=\"1\" class=\"dataframe\">\n",
       "  <thead>\n",
       "    <tr style=\"text-align: right;\">\n",
       "      <th></th>\n",
       "      <th>Product_Category_2</th>\n",
       "      <th>Count</th>\n",
       "    </tr>\n",
       "  </thead>\n",
       "  <tbody>\n",
       "    <tr>\n",
       "      <th>0</th>\n",
       "      <td>NaN</td>\n",
       "      <td>245982</td>\n",
       "    </tr>\n",
       "    <tr>\n",
       "      <th>1</th>\n",
       "      <td>8.0</td>\n",
       "      <td>91317</td>\n",
       "    </tr>\n",
       "    <tr>\n",
       "      <th>2</th>\n",
       "      <td>14.0</td>\n",
       "      <td>78834</td>\n",
       "    </tr>\n",
       "    <tr>\n",
       "      <th>3</th>\n",
       "      <td>2.0</td>\n",
       "      <td>70498</td>\n",
       "    </tr>\n",
       "    <tr>\n",
       "      <th>4</th>\n",
       "      <td>16.0</td>\n",
       "      <td>61687</td>\n",
       "    </tr>\n",
       "    <tr>\n",
       "      <th>5</th>\n",
       "      <td>15.0</td>\n",
       "      <td>54114</td>\n",
       "    </tr>\n",
       "    <tr>\n",
       "      <th>6</th>\n",
       "      <td>5.0</td>\n",
       "      <td>37165</td>\n",
       "    </tr>\n",
       "    <tr>\n",
       "      <th>7</th>\n",
       "      <td>4.0</td>\n",
       "      <td>36705</td>\n",
       "    </tr>\n",
       "    <tr>\n",
       "      <th>8</th>\n",
       "      <td>6.0</td>\n",
       "      <td>23575</td>\n",
       "    </tr>\n",
       "    <tr>\n",
       "      <th>9</th>\n",
       "      <td>11.0</td>\n",
       "      <td>20230</td>\n",
       "    </tr>\n",
       "    <tr>\n",
       "      <th>10</th>\n",
       "      <td>17.0</td>\n",
       "      <td>19104</td>\n",
       "    </tr>\n",
       "    <tr>\n",
       "      <th>11</th>\n",
       "      <td>13.0</td>\n",
       "      <td>15054</td>\n",
       "    </tr>\n",
       "    <tr>\n",
       "      <th>12</th>\n",
       "      <td>9.0</td>\n",
       "      <td>8177</td>\n",
       "    </tr>\n",
       "    <tr>\n",
       "      <th>13</th>\n",
       "      <td>12.0</td>\n",
       "      <td>7801</td>\n",
       "    </tr>\n",
       "    <tr>\n",
       "      <th>14</th>\n",
       "      <td>10.0</td>\n",
       "      <td>4420</td>\n",
       "    </tr>\n",
       "    <tr>\n",
       "      <th>15</th>\n",
       "      <td>3.0</td>\n",
       "      <td>4123</td>\n",
       "    </tr>\n",
       "    <tr>\n",
       "      <th>16</th>\n",
       "      <td>18.0</td>\n",
       "      <td>4027</td>\n",
       "    </tr>\n",
       "    <tr>\n",
       "      <th>17</th>\n",
       "      <td>7.0</td>\n",
       "      <td>854</td>\n",
       "    </tr>\n",
       "  </tbody>\n",
       "</table>\n",
       "</div>"
      ],
      "text/plain": [
       "    Product_Category_2   Count\n",
       "0                  NaN  245982\n",
       "1                  8.0   91317\n",
       "2                 14.0   78834\n",
       "3                  2.0   70498\n",
       "4                 16.0   61687\n",
       "5                 15.0   54114\n",
       "6                  5.0   37165\n",
       "7                  4.0   36705\n",
       "8                  6.0   23575\n",
       "9                 11.0   20230\n",
       "10                17.0   19104\n",
       "11                13.0   15054\n",
       "12                 9.0    8177\n",
       "13                12.0    7801\n",
       "14                10.0    4420\n",
       "15                 3.0    4123\n",
       "16                18.0    4027\n",
       "17                 7.0     854"
      ]
     },
     "metadata": {},
     "output_type": "display_data"
    },
    {
     "data": {
      "text/html": [
       "<div>\n",
       "<style scoped>\n",
       "    .dataframe tbody tr th:only-of-type {\n",
       "        vertical-align: middle;\n",
       "    }\n",
       "\n",
       "    .dataframe tbody tr th {\n",
       "        vertical-align: top;\n",
       "    }\n",
       "\n",
       "    .dataframe thead th {\n",
       "        text-align: right;\n",
       "    }\n",
       "</style>\n",
       "<table border=\"1\" class=\"dataframe\">\n",
       "  <thead>\n",
       "    <tr style=\"text-align: right;\">\n",
       "      <th></th>\n",
       "      <th>Product_Category_3</th>\n",
       "      <th>Count</th>\n",
       "    </tr>\n",
       "  </thead>\n",
       "  <tbody>\n",
       "    <tr>\n",
       "      <th>0</th>\n",
       "      <td>NaN</td>\n",
       "      <td>545809</td>\n",
       "    </tr>\n",
       "    <tr>\n",
       "      <th>1</th>\n",
       "      <td>16.0</td>\n",
       "      <td>46469</td>\n",
       "    </tr>\n",
       "    <tr>\n",
       "      <th>2</th>\n",
       "      <td>15.0</td>\n",
       "      <td>39968</td>\n",
       "    </tr>\n",
       "    <tr>\n",
       "      <th>3</th>\n",
       "      <td>14.0</td>\n",
       "      <td>26283</td>\n",
       "    </tr>\n",
       "    <tr>\n",
       "      <th>4</th>\n",
       "      <td>17.0</td>\n",
       "      <td>23818</td>\n",
       "    </tr>\n",
       "    <tr>\n",
       "      <th>5</th>\n",
       "      <td>5.0</td>\n",
       "      <td>23799</td>\n",
       "    </tr>\n",
       "    <tr>\n",
       "      <th>6</th>\n",
       "      <td>8.0</td>\n",
       "      <td>17861</td>\n",
       "    </tr>\n",
       "    <tr>\n",
       "      <th>7</th>\n",
       "      <td>9.0</td>\n",
       "      <td>16532</td>\n",
       "    </tr>\n",
       "    <tr>\n",
       "      <th>8</th>\n",
       "      <td>12.0</td>\n",
       "      <td>13115</td>\n",
       "    </tr>\n",
       "    <tr>\n",
       "      <th>9</th>\n",
       "      <td>13.0</td>\n",
       "      <td>7849</td>\n",
       "    </tr>\n",
       "    <tr>\n",
       "      <th>10</th>\n",
       "      <td>6.0</td>\n",
       "      <td>6888</td>\n",
       "    </tr>\n",
       "    <tr>\n",
       "      <th>11</th>\n",
       "      <td>18.0</td>\n",
       "      <td>6621</td>\n",
       "    </tr>\n",
       "    <tr>\n",
       "      <th>12</th>\n",
       "      <td>4.0</td>\n",
       "      <td>2691</td>\n",
       "    </tr>\n",
       "    <tr>\n",
       "      <th>13</th>\n",
       "      <td>11.0</td>\n",
       "      <td>2585</td>\n",
       "    </tr>\n",
       "    <tr>\n",
       "      <th>14</th>\n",
       "      <td>10.0</td>\n",
       "      <td>2501</td>\n",
       "    </tr>\n",
       "    <tr>\n",
       "      <th>15</th>\n",
       "      <td>3.0</td>\n",
       "      <td>878</td>\n",
       "    </tr>\n",
       "  </tbody>\n",
       "</table>\n",
       "</div>"
      ],
      "text/plain": [
       "    Product_Category_3   Count\n",
       "0                  NaN  545809\n",
       "1                 16.0   46469\n",
       "2                 15.0   39968\n",
       "3                 14.0   26283\n",
       "4                 17.0   23818\n",
       "5                  5.0   23799\n",
       "6                  8.0   17861\n",
       "7                  9.0   16532\n",
       "8                 12.0   13115\n",
       "9                 13.0    7849\n",
       "10                 6.0    6888\n",
       "11                18.0    6621\n",
       "12                 4.0    2691\n",
       "13                11.0    2585\n",
       "14                10.0    2501\n",
       "15                 3.0     878"
      ]
     },
     "metadata": {},
     "output_type": "display_data"
    }
   ],
   "source": [
    "cols = ['Gender','Age','Occupation','City_Category','Stay_In_Current_City_Years','Marital_Status','Product_Category_1','Product_Category_2','Product_Category_3']\n",
    "for col in cols:\n",
    "    catCount = df[col].value_counts(dropna=False).reset_index().rename(columns={'index':col,col:'Count'})\n",
    "    display(catCount)\n",
    "    "
   ]
  },
  {
   "cell_type": "markdown",
   "id": "322dcfb0",
   "metadata": {},
   "source": [
    "###### Convert Categorical columns to numeric"
   ]
  },
  {
   "cell_type": "code",
   "execution_count": 211,
   "id": "c938e429",
   "metadata": {},
   "outputs": [],
   "source": [
    "df['Gender'] = df['Gender'].map({'F':0,'M':1})"
   ]
  },
  {
   "cell_type": "code",
   "execution_count": 212,
   "id": "e74ce794",
   "metadata": {},
   "outputs": [],
   "source": [
    "df['Age'] = df['Age'].map({'0-17':1,'18-25':2,'26-35':3,'36-45':4,'46-50':5,'51-55':6,'55+':7})"
   ]
  },
  {
   "cell_type": "code",
   "execution_count": 213,
   "id": "cbf8f27a",
   "metadata": {},
   "outputs": [],
   "source": [
    "dfCity = pd.get_dummies(df['City_Category'],drop_first=True)\n",
    "df.drop(['City_Category'],axis=1,inplace=True)\n",
    "df = pd.concat([df,dfCity],axis=1)"
   ]
  },
  {
   "cell_type": "code",
   "execution_count": 214,
   "id": "05d1e401",
   "metadata": {},
   "outputs": [
    {
     "data": {
      "text/plain": [
       "Index(['Gender', 'Age', 'Occupation', 'Stay_In_Current_City_Years',\n",
       "       'Marital_Status', 'Product_Category_1', 'Product_Category_2',\n",
       "       'Product_Category_3', 'Purchase', 'B', 'C'],\n",
       "      dtype='object')"
      ]
     },
     "execution_count": 214,
     "metadata": {},
     "output_type": "execute_result"
    }
   ],
   "source": [
    "df.columns"
   ]
  },
  {
   "cell_type": "code",
   "execution_count": 215,
   "id": "77654e8b",
   "metadata": {},
   "outputs": [],
   "source": [
    "df['Stay_In_Current_City_Years'] = df['Stay_In_Current_City_Years'].apply(lambda x : 4 if x == \"4+\" else x)"
   ]
  },
  {
   "cell_type": "code",
   "execution_count": 216,
   "id": "f939adea",
   "metadata": {},
   "outputs": [],
   "source": [
    "df['Product_Category_2'] = df['Product_Category_2'].fillna(df['Product_Category_2'].mode()[0])"
   ]
  },
  {
   "cell_type": "code",
   "execution_count": 217,
   "id": "c6fe5b81",
   "metadata": {},
   "outputs": [],
   "source": [
    "df['Product_Category_3'] = df['Product_Category_3'].fillna(df['Product_Category_3'].mode()[0])"
   ]
  },
  {
   "cell_type": "code",
   "execution_count": 218,
   "id": "feb55257",
   "metadata": {},
   "outputs": [
    {
     "name": "stdout",
     "output_type": "stream",
     "text": [
      "<class 'pandas.core.frame.DataFrame'>\n",
      "Int64Index: 783667 entries, 0 to 233598\n",
      "Data columns (total 11 columns):\n",
      " #   Column                      Non-Null Count   Dtype  \n",
      "---  ------                      --------------   -----  \n",
      " 0   Gender                      783667 non-null  int64  \n",
      " 1   Age                         783667 non-null  int64  \n",
      " 2   Occupation                  783667 non-null  int64  \n",
      " 3   Stay_In_Current_City_Years  783667 non-null  object \n",
      " 4   Marital_Status              783667 non-null  int64  \n",
      " 5   Product_Category_1          783667 non-null  int64  \n",
      " 6   Product_Category_2          783667 non-null  float64\n",
      " 7   Product_Category_3          783667 non-null  float64\n",
      " 8   Purchase                    550068 non-null  float64\n",
      " 9   B                           783667 non-null  uint8  \n",
      " 10  C                           783667 non-null  uint8  \n",
      "dtypes: float64(3), int64(5), object(1), uint8(2)\n",
      "memory usage: 61.3+ MB\n"
     ]
    }
   ],
   "source": [
    "df.info()"
   ]
  },
  {
   "cell_type": "code",
   "execution_count": 219,
   "id": "1ab1e66d",
   "metadata": {},
   "outputs": [],
   "source": [
    "#Convert object type to int\n",
    "df['Stay_In_Current_City_Years'] = df['Stay_In_Current_City_Years'].astype(int)\n",
    "df['B'] = df['B'].astype(int)\n",
    "df['C'] = df['C'].astype(int)"
   ]
  },
  {
   "cell_type": "markdown",
   "id": "7fbccf85",
   "metadata": {},
   "source": [
    "##### Visualisation"
   ]
  },
  {
   "cell_type": "code",
   "execution_count": 220,
   "id": "52674ce6",
   "metadata": {
    "scrolled": true
   },
   "outputs": [],
   "source": [
    "#sns.pairplot(df)"
   ]
  },
  {
   "cell_type": "code",
   "execution_count": 221,
   "id": "9287cbce",
   "metadata": {},
   "outputs": [
    {
     "data": {
      "text/plain": [
       "<AxesSubplot:xlabel='Age', ylabel='Purchase'>"
      ]
     },
     "execution_count": 221,
     "metadata": {},
     "output_type": "execute_result"
    },
    {
     "data": {
      "image/png": "[encoded data removed]",
      "text/plain": [
       "<Figure size 432x288 with 1 Axes>"
      ]
     },
     "metadata": {},
     "output_type": "display_data"
    }
   ],
   "source": [
    "sns.barplot(x='Age',y='Purchase',hue='Gender',data=df)"
   ]
  },
  {
   "cell_type": "code",
   "execution_count": 222,
   "id": "84aada4f",
   "metadata": {},
   "outputs": [
    {
     "data": {
      "text/plain": [
       "<AxesSubplot:xlabel='Marital_Status', ylabel='Purchase'>"
      ]
     },
     "execution_count": 222,
     "metadata": {},
     "output_type": "execute_result"
    },
    {
     "data": {
      "image/png": "[encoded data removed]",
      "text/plain": [
       "<Figure size 432x288 with 1 Axes>"
      ]
     },
     "metadata": {},
     "output_type": "display_data"
    }
   ],
   "source": [
    "sns.barplot(x='Marital_Status',y='Purchase',hue='Gender',data=df)"
   ]
  },
  {
   "cell_type": "code",
   "execution_count": 223,
   "id": "c52062af",
   "metadata": {},
   "outputs": [
    {
     "data": {
      "text/plain": [
       "<AxesSubplot:xlabel='Occupation', ylabel='Purchase'>"
      ]
     },
     "execution_count": 223,
     "metadata": {},
     "output_type": "execute_result"
    },
    {
     "data": {
      "image/png": "[encoded data removed]",
      "text/plain": [
       "<Figure size 432x288 with 1 Axes>"
      ]
     },
     "metadata": {},
     "output_type": "display_data"
    }
   ],
   "source": [
    "sns.barplot(x='Occupation',y='Purchase',hue='Gender',data=df)"
   ]
  },
  {
   "cell_type": "code",
   "execution_count": 224,
   "id": "4dae0661",
   "metadata": {},
   "outputs": [
    {
     "data": {
      "text/plain": [
       "<AxesSubplot:xlabel='Product_Category_1', ylabel='Purchase'>"
      ]
     },
     "execution_count": 224,
     "metadata": {},
     "output_type": "execute_result"
    },
    {
     "data": {
      "image/png": "[encoded data removed]",
      "text/plain": [
       "<Figure size 432x288 with 1 Axes>"
      ]
     },
     "metadata": {},
     "output_type": "display_data"
    }
   ],
   "source": [
    "sns.barplot(x='Product_Category_1',y='Purchase',hue='Gender',data=df)"
   ]
  },
  {
   "cell_type": "code",
   "execution_count": 225,
   "id": "b3571ec5",
   "metadata": {},
   "outputs": [
    {
     "data": {
      "text/plain": [
       "<AxesSubplot:xlabel='Product_Category_2', ylabel='Purchase'>"
      ]
     },
     "execution_count": 225,
     "metadata": {},
     "output_type": "execute_result"
    },
    {
     "data": {
      "image/png": "[encoded data removed]",
      "text/plain": [
       "<Figure size 432x288 with 1 Axes>"
      ]
     },
     "metadata": {},
     "output_type": "display_data"
    }
   ],
   "source": [
    "sns.barplot(x='Product_Category_2',y='Purchase',hue='Gender',data=df)"
   ]
  },
  {
   "cell_type": "code",
   "execution_count": 226,
   "id": "5020c68e",
   "metadata": {},
   "outputs": [
    {
     "data": {
      "text/plain": [
       "<AxesSubplot:xlabel='Product_Category_3', ylabel='Purchase'>"
      ]
     },
     "execution_count": 226,
     "metadata": {},
     "output_type": "execute_result"
    },
    {
     "data": {
      "image/png": "[encoded data removed]",
      "text/plain": [
       "<Figure size 432x288 with 1 Axes>"
      ]
     },
     "metadata": {},
     "output_type": "display_data"
    }
   ],
   "source": [
    "sns.barplot(x='Product_Category_3',y='Purchase',hue='Gender',data=df)"
   ]
  },
  {
   "cell_type": "markdown",
   "id": "3b635312",
   "metadata": {},
   "source": [
    "###### Observations:\n",
    "- Male Purchase more then Female across age and Marital Status\n",
    "- Across occupation male purchase more then female apart from Occupation 18.\n",
    "- Product_Category1 : 10 is most purchased by both male and female.\n",
    "- Product_Category2 : 10 is most purchased by both male and female.\n",
    "- Product_Category3 : 10 is most purchased by female and 3 by males"
   ]
  },
  {
   "cell_type": "code",
   "execution_count": 227,
   "id": "9042bb05",
   "metadata": {},
   "outputs": [
    {
     "data": {
      "text/html": [
       "<div>\n",
       "<style scoped>\n",
       "    .dataframe tbody tr th:only-of-type {\n",
       "        vertical-align: middle;\n",
       "    }\n",
       "\n",
       "    .dataframe tbody tr th {\n",
       "        vertical-align: top;\n",
       "    }\n",
       "\n",
       "    .dataframe thead th {\n",
       "        text-align: right;\n",
       "    }\n",
       "</style>\n",
       "<table border=\"1\" class=\"dataframe\">\n",
       "  <thead>\n",
       "    <tr style=\"text-align: right;\">\n",
       "      <th></th>\n",
       "      <th>Gender</th>\n",
       "      <th>Age</th>\n",
       "      <th>Occupation</th>\n",
       "      <th>Stay_In_Current_City_Years</th>\n",
       "      <th>Marital_Status</th>\n",
       "      <th>Product_Category_1</th>\n",
       "      <th>Product_Category_2</th>\n",
       "      <th>Product_Category_3</th>\n",
       "      <th>Purchase</th>\n",
       "      <th>B</th>\n",
       "      <th>C</th>\n",
       "    </tr>\n",
       "  </thead>\n",
       "  <tbody>\n",
       "    <tr>\n",
       "      <th>0</th>\n",
       "      <td>0</td>\n",
       "      <td>1</td>\n",
       "      <td>10</td>\n",
       "      <td>2</td>\n",
       "      <td>0</td>\n",
       "      <td>3</td>\n",
       "      <td>8.0</td>\n",
       "      <td>16.0</td>\n",
       "      <td>8370.0</td>\n",
       "      <td>0</td>\n",
       "      <td>0</td>\n",
       "    </tr>\n",
       "    <tr>\n",
       "      <th>1</th>\n",
       "      <td>0</td>\n",
       "      <td>1</td>\n",
       "      <td>10</td>\n",
       "      <td>2</td>\n",
       "      <td>0</td>\n",
       "      <td>1</td>\n",
       "      <td>6.0</td>\n",
       "      <td>14.0</td>\n",
       "      <td>15200.0</td>\n",
       "      <td>0</td>\n",
       "      <td>0</td>\n",
       "    </tr>\n",
       "    <tr>\n",
       "      <th>2</th>\n",
       "      <td>0</td>\n",
       "      <td>1</td>\n",
       "      <td>10</td>\n",
       "      <td>2</td>\n",
       "      <td>0</td>\n",
       "      <td>12</td>\n",
       "      <td>8.0</td>\n",
       "      <td>16.0</td>\n",
       "      <td>1422.0</td>\n",
       "      <td>0</td>\n",
       "      <td>0</td>\n",
       "    </tr>\n",
       "    <tr>\n",
       "      <th>3</th>\n",
       "      <td>0</td>\n",
       "      <td>1</td>\n",
       "      <td>10</td>\n",
       "      <td>2</td>\n",
       "      <td>0</td>\n",
       "      <td>12</td>\n",
       "      <td>14.0</td>\n",
       "      <td>16.0</td>\n",
       "      <td>1057.0</td>\n",
       "      <td>0</td>\n",
       "      <td>0</td>\n",
       "    </tr>\n",
       "    <tr>\n",
       "      <th>4</th>\n",
       "      <td>1</td>\n",
       "      <td>7</td>\n",
       "      <td>16</td>\n",
       "      <td>4</td>\n",
       "      <td>0</td>\n",
       "      <td>8</td>\n",
       "      <td>8.0</td>\n",
       "      <td>16.0</td>\n",
       "      <td>7969.0</td>\n",
       "      <td>0</td>\n",
       "      <td>1</td>\n",
       "    </tr>\n",
       "  </tbody>\n",
       "</table>\n",
       "</div>"
      ],
      "text/plain": [
       "   Gender  Age  Occupation  Stay_In_Current_City_Years  Marital_Status  \\\n",
       "0       0    1          10                           2               0   \n",
       "1       0    1          10                           2               0   \n",
       "2       0    1          10                           2               0   \n",
       "3       0    1          10                           2               0   \n",
       "4       1    7          16                           4               0   \n",
       "\n",
       "   Product_Category_1  Product_Category_2  Product_Category_3  Purchase  B  C  \n",
       "0                   3                 8.0                16.0    8370.0  0  0  \n",
       "1                   1                 6.0                14.0   15200.0  0  0  \n",
       "2                  12                 8.0                16.0    1422.0  0  0  \n",
       "3                  12                14.0                16.0    1057.0  0  0  \n",
       "4                   8                 8.0                16.0    7969.0  0  1  "
      ]
     },
     "execution_count": 227,
     "metadata": {},
     "output_type": "execute_result"
    }
   ],
   "source": [
    "df.head()"
   ]
  },
  {
   "cell_type": "code",
   "execution_count": 228,
   "id": "7b7b2330",
   "metadata": {},
   "outputs": [],
   "source": [
    "df_test = df[df['Purchase'].isnull()]"
   ]
  },
  {
   "cell_type": "code",
   "execution_count": 229,
   "id": "4ddb1f6e",
   "metadata": {},
   "outputs": [],
   "source": [
    "df_train = df[~df['Purchase'].isnull()]"
   ]
  },
  {
   "cell_type": "code",
   "execution_count": 230,
   "id": "76a20b95",
   "metadata": {},
   "outputs": [
    {
     "name": "stdout",
     "output_type": "stream",
     "text": [
      "(550068, 11)\n"
     ]
    }
   ],
   "source": [
    "print(df_train.shape)"
   ]
  },
  {
   "cell_type": "code",
   "execution_count": 231,
   "id": "82c4828c",
   "metadata": {},
   "outputs": [
    {
     "name": "stdout",
     "output_type": "stream",
     "text": [
      "(233599, 11)\n"
     ]
    }
   ],
   "source": [
    "print(df_test.shape)"
   ]
  },
  {
   "cell_type": "code",
   "execution_count": 232,
   "id": "4ba59924",
   "metadata": {},
   "outputs": [],
   "source": [
    "#Train Test Split\n",
    "from sklearn.model_selection import train_test_split\n",
    "from sklearn.preprocessing import StandardScaler"
   ]
  },
  {
   "cell_type": "code",
   "execution_count": 233,
   "id": "54f6dc9c",
   "metadata": {},
   "outputs": [],
   "source": [
    "X = df_train.drop('Purchase', axis=1)\n",
    "y = df_train['Purchase']"
   ]
  },
  {
   "cell_type": "code",
   "execution_count": 234,
   "id": "1a8328b4",
   "metadata": {},
   "outputs": [],
   "source": [
    "X_train, X_test, y_train, y_test = train_test_split(X,y,test_size=0.3,random_state=42)"
   ]
  },
  {
   "cell_type": "code",
   "execution_count": 235,
   "id": "c650155b",
   "metadata": {},
   "outputs": [
    {
     "data": {
      "text/plain": [
       "(385047, 10)"
      ]
     },
     "execution_count": 235,
     "metadata": {},
     "output_type": "execute_result"
    }
   ],
   "source": [
    "X_train.shape"
   ]
  },
  {
   "cell_type": "code",
   "execution_count": 236,
   "id": "d7713615",
   "metadata": {},
   "outputs": [
    {
     "data": {
      "text/plain": [
       "(385047,)"
      ]
     },
     "execution_count": 236,
     "metadata": {},
     "output_type": "execute_result"
    }
   ],
   "source": [
    "y_train.shape"
   ]
  },
  {
   "cell_type": "code",
   "execution_count": 237,
   "id": "ab31739e",
   "metadata": {},
   "outputs": [],
   "source": [
    "sc = StandardScaler()\n",
    "X_train = sc.fit_transform(X_train)\n",
    "X_test = sc.transform(X_test)"
   ]
  },
  {
   "cell_type": "markdown",
   "id": "761fae58",
   "metadata": {},
   "source": [
    "###### Build a model to predict purchase"
   ]
  },
  {
   "cell_type": "code",
   "execution_count": 238,
   "id": "54aeaaa8",
   "metadata": {},
   "outputs": [
    {
     "data": {
      "text/plain": [
       "LinearRegression()"
      ]
     },
     "execution_count": 238,
     "metadata": {},
     "output_type": "execute_result"
    }
   ],
   "source": [
    "from sklearn.linear_model import LinearRegression\n",
    "\n",
    "lm = LinearRegression()\n",
    "lm.fit(X_train, y_train)"
   ]
  },
  {
   "cell_type": "code",
   "execution_count": 239,
   "id": "a406f6ce",
   "metadata": {},
   "outputs": [
    {
     "name": "stdout",
     "output_type": "stream",
     "text": [
      "Intercept parameter: 9261.58498313193\n",
      "                            Coefficient\n",
      "Gender                       219.744514\n",
      "Age                          159.517602\n",
      "Occupation                    40.653134\n",
      "Stay_In_Current_City_Years    11.802620\n",
      "Marital_Status               -27.897631\n",
      "Product_Category_1         -1595.539581\n",
      "Product_Category_2            -4.923591\n",
      "Product_Category_3          -421.591958\n",
      "B                             76.498978\n",
      "C                            309.812783\n"
     ]
    }
   ],
   "source": [
    "print('Intercept parameter:', lm.intercept_)\n",
    "coeff_df = pd.DataFrame(lm.coef_, X.columns, columns=['Coefficient'])\n",
    "print(coeff_df)"
   ]
  },
  {
   "cell_type": "code",
   "execution_count": 240,
   "id": "a5deecd2",
   "metadata": {},
   "outputs": [
    {
     "name": "stdout",
     "output_type": "stream",
     "text": [
      "Predicted purchases (in dollars) for new costumers: [11817.60519671 10475.00229254  7366.15201815 ... 11292.3914949\n",
      " 10465.94638941  9092.37459695]\n"
     ]
    }
   ],
   "source": [
    "predictions = lm.predict(X_test)\n",
    "print(\"Predicted purchases (in dollars) for new costumers:\", predictions)"
   ]
  },
  {
   "cell_type": "code",
   "execution_count": 241,
   "id": "e5f9ce9c",
   "metadata": {},
   "outputs": [
    {
     "name": "stdout",
     "output_type": "stream",
     "text": [
      "MAE: 3577.4327862411255\n",
      "MSE: 21944298.789887913\n"
     ]
    }
   ],
   "source": [
    "from sklearn import metrics\n",
    "\n",
    "print('MAE:', metrics.mean_absolute_error(y_test, predictions))\n",
    "print('MSE:', metrics.mean_squared_error(y_test, predictions))\n",
    "print('RMSE:', metrics.mean_squared_error(y_test, predictions, squared=False))"
   ]
  },
  {
   "cell_type": "code",
   "execution_count": 245,
   "id": "c8790894",
   "metadata": {},
   "outputs": [
    {
     "name": "stdout",
     "output_type": "stream",
     "text": [
      "ElasticNet Regression\n",
      "MAE: 3677.850915752098\n",
      "MSE: 22223588.251403607\n",
      "RMSE: 4714.1900949583705\n"
     ]
    }
   ],
   "source": [
    "# Build ElasticNet Regression model\n",
    "from sklearn.linear_model import ElasticNet\n",
    "en = ElasticNet()\n",
    "en.fit(X_train, y_train)\n",
    "y_pred = en.predict(X_test)\n",
    "\n",
    "# ElasticNet Regression\n",
    "print(\"ElasticNet Regression\")\n",
    "# Root Mean Squared Error\n",
    "print('MAE:', metrics.mean_absolute_error(y_test, y_pred))\n",
    "print('MSE:', metrics.mean_squared_error(y_test, y_pred))\n",
    "print('RMSE:', metrics.mean_squared_error(y_test, y_pred, squared=False))"
   ]
  },
  {
   "cell_type": "code",
   "execution_count": 246,
   "id": "ebef4952",
   "metadata": {},
   "outputs": [
    {
     "name": "stdout",
     "output_type": "stream",
     "text": [
      "Epoch 1/100\n",
      "12033/12033 [==============================] - 19s 1ms/step - loss: 111002184.0000 - mse: 111002184.0000\n",
      "Epoch 2/100\n",
      "12033/12033 [==============================] - 17s 1ms/step - loss: 111001712.0000 - mse: 111001712.0000\n",
      "Epoch 3/100\n",
      "12033/12033 [==============================] - 17s 1ms/step - loss: 111001592.0000 - mse: 111001592.0000\n",
      "Epoch 4/100\n",
      "12033/12033 [==============================] - 18s 1ms/step - loss: 111001984.0000 - mse: 111001984.0000\n",
      "Epoch 5/100\n",
      "12033/12033 [==============================] - 17s 1ms/step - loss: 111002336.0000 - mse: 111002336.0000\n",
      "Epoch 6/100\n",
      "12033/12033 [==============================] - 17s 1ms/step - loss: 111002112.0000 - mse: 111002112.0000\n",
      "Epoch 7/100\n",
      "12033/12033 [==============================] - 18s 1ms/step - loss: 111002128.0000 - mse: 111002128.0000\n",
      "Epoch 8/100\n",
      "12033/12033 [==============================] - 18s 1ms/step - loss: 111001600.0000 - mse: 111001600.0000\n",
      "Epoch 9/100\n",
      "12033/12033 [==============================] - 17s 1ms/step - loss: 111002192.0000 - mse: 111002192.0000\n",
      "Epoch 10/100\n",
      "12033/12033 [==============================] - 17s 1ms/step - loss: 111001976.0000 - mse: 111001976.0000\n",
      "Epoch 11/100\n",
      "12033/12033 [==============================] - 17s 1ms/step - loss: 111002256.0000 - mse: 111002256.0000\n",
      "Epoch 12/100\n",
      "12033/12033 [==============================] - 17s 1ms/step - loss: 111001824.0000 - mse: 111001824.0000\n",
      "Epoch 13/100\n",
      "12033/12033 [==============================] - 17s 1ms/step - loss: 111002064.0000 - mse: 111002064.0000\n",
      "Epoch 14/100\n",
      "12033/12033 [==============================] - 17s 1ms/step - loss: 111002072.0000 - mse: 111002072.0000\n",
      "Epoch 15/100\n",
      "12033/12033 [==============================] - 16s 1ms/step - loss: 111001840.0000 - mse: 111001840.0000\n",
      "Epoch 16/100\n",
      "12033/12033 [==============================] - 17s 1ms/step - loss: 111001856.0000 - mse: 111001856.0000\n",
      "Epoch 17/100\n",
      "12033/12033 [==============================] - 17s 1ms/step - loss: 111001792.0000 - mse: 111001792.0000\n",
      "Epoch 18/100\n",
      "12033/12033 [==============================] - 17s 1ms/step - loss: 111002352.0000 - mse: 111002352.0000\n",
      "Epoch 19/100\n",
      "12033/12033 [==============================] - 17s 1ms/step - loss: 111002104.0000 - mse: 111002104.0000\n",
      "Epoch 20/100\n",
      "12033/12033 [==============================] - 17s 1ms/step - loss: 111002032.0000 - mse: 111002032.0000\n",
      "Epoch 21/100\n",
      "12033/12033 [==============================] - 17s 1ms/step - loss: 111001896.0000 - mse: 111001896.0000\n",
      "Epoch 22/100\n",
      "12033/12033 [==============================] - 17s 1ms/step - loss: 111001864.0000 - mse: 111001864.0000\n",
      "Epoch 23/100\n",
      "12033/12033 [==============================] - 17s 1ms/step - loss: 111001688.0000 - mse: 111001688.0000\n",
      "Epoch 24/100\n",
      "12033/12033 [==============================] - 17s 1ms/step - loss: 111001984.0000 - mse: 111001984.0000\n",
      "Epoch 25/100\n",
      "12033/12033 [==============================] - 17s 1ms/step - loss: 111001832.0000 - mse: 111001832.0000\n",
      "Epoch 26/100\n",
      "12033/12033 [==============================] - 17s 1ms/step - loss: 111002040.0000 - mse: 111002040.0000\n",
      "Epoch 27/100\n",
      "12033/12033 [==============================] - 17s 1ms/step - loss: 111001920.0000 - mse: 111001920.0000\n",
      "Epoch 28/100\n",
      "12033/12033 [==============================] - 17s 1ms/step - loss: 111002080.0000 - mse: 111002080.0000\n",
      "Epoch 29/100\n",
      "12033/12033 [==============================] - 17s 1ms/step - loss: 111001840.0000 - mse: 111001840.0000\n",
      "Epoch 30/100\n",
      "12033/12033 [==============================] - 17s 1ms/step - loss: 111002064.0000 - mse: 111002064.0000\n",
      "Epoch 31/100\n",
      "12033/12033 [==============================] - 18s 1ms/step - loss: 111001776.0000 - mse: 111001776.0000\n",
      "Epoch 32/100\n",
      "12033/12033 [==============================] - 18s 1ms/step - loss: 111001712.0000 - mse: 111001712.0000\n",
      "Epoch 33/100\n",
      "12033/12033 [==============================] - 17s 1ms/step - loss: 111001872.0000 - mse: 111001872.0000\n",
      "Epoch 34/100\n",
      "12033/12033 [==============================] - 17s 1ms/step - loss: 111001928.0000 - mse: 111001928.0000\n",
      "Epoch 35/100\n",
      "12033/12033 [==============================] - 17s 1ms/step - loss: 111002096.0000 - mse: 111002096.0000\n",
      "Epoch 36/100\n",
      "12033/12033 [==============================] - 17s 1ms/step - loss: 111001720.0000 - mse: 111001720.0000\n",
      "Epoch 37/100\n",
      "12033/12033 [==============================] - 17s 1ms/step - loss: 111001896.0000 - mse: 111001896.0000\n",
      "Epoch 38/100\n",
      "12033/12033 [==============================] - 17s 1ms/step - loss: 111001624.0000 - mse: 111001624.0000\n",
      "Epoch 39/100\n",
      "12033/12033 [==============================] - 16s 1ms/step - loss: 111001960.0000 - mse: 111001960.0000\n",
      "Epoch 40/100\n",
      "12033/12033 [==============================] - 16s 1ms/step - loss: 111001704.0000 - mse: 111001704.0000\n",
      "Epoch 41/100\n",
      "12033/12033 [==============================] - 17s 1ms/step - loss: 111002104.0000 - mse: 111002104.0000\n",
      "Epoch 42/100\n",
      "12033/12033 [==============================] - 17s 1ms/step - loss: 111002040.0000 - mse: 111002040.0000\n",
      "Epoch 43/100\n",
      "12033/12033 [==============================] - 16s 1ms/step - loss: 111001672.0000 - mse: 111001672.0000\n",
      "Epoch 44/100\n",
      "12033/12033 [==============================] - 17s 1ms/step - loss: 111001800.0000 - mse: 111001800.0000\n",
      "Epoch 45/100\n",
      "12033/12033 [==============================] - 17s 1ms/step - loss: 111001984.0000 - mse: 111001984.0000\n",
      "Epoch 46/100\n",
      "12033/12033 [==============================] - 17s 1ms/step - loss: 111002104.0000 - mse: 111002104.0000\n",
      "Epoch 47/100\n",
      "12033/12033 [==============================] - 17s 1ms/step - loss: 111002256.0000 - mse: 111002256.0000\n",
      "Epoch 48/100\n",
      "12033/12033 [==============================] - 16s 1ms/step - loss: 111002464.0000 - mse: 111002464.0000\n",
      "Epoch 49/100\n",
      "12033/12033 [==============================] - 17s 1ms/step - loss: 111001912.0000 - mse: 111001912.0000\n",
      "Epoch 50/100\n",
      "12033/12033 [==============================] - 17s 1ms/step - loss: 111001840.0000 - mse: 111001840.0000\n",
      "Epoch 51/100\n",
      "12033/12033 [==============================] - 16s 1ms/step - loss: 111001680.0000 - mse: 111001680.0000\n",
      "Epoch 52/100\n",
      "12033/12033 [==============================] - 17s 1ms/step - loss: 111001808.0000 - mse: 111001808.0000\n",
      "Epoch 53/100\n",
      "12033/12033 [==============================] - 17s 1ms/step - loss: 111002200.0000 - mse: 111002200.0000\n",
      "Epoch 54/100\n",
      "12033/12033 [==============================] - 17s 1ms/step - loss: 111001776.0000 - mse: 111001776.0000\n",
      "Epoch 55/100\n",
      "12033/12033 [==============================] - 17s 1ms/step - loss: 111001752.0000 - mse: 111001752.0000\n",
      "Epoch 56/100\n",
      "12033/12033 [==============================] - 17s 1ms/step - loss: 111001792.0000 - mse: 111001792.0000\n",
      "Epoch 57/100\n",
      "12033/12033 [==============================] - 17s 1ms/step - loss: 111001944.0000 - mse: 111001944.0000\n",
      "Epoch 58/100\n",
      "12033/12033 [==============================] - 17s 1ms/step - loss: 111001976.0000 - mse: 111001976.0000\n",
      "Epoch 59/100\n",
      "12033/12033 [==============================] - 17s 1ms/step - loss: 111002112.0000 - mse: 111002112.0000\n",
      "Epoch 60/100\n",
      "12033/12033 [==============================] - 17s 1ms/step - loss: 111001672.0000 - mse: 111001672.0000\n",
      "Epoch 61/100\n",
      "12033/12033 [==============================] - 17s 1ms/step - loss: 111002104.0000 - mse: 111002104.0000\n",
      "Epoch 62/100\n",
      "12033/12033 [==============================] - 17s 1ms/step - loss: 111002048.0000 - mse: 111002048.0000\n",
      "Epoch 63/100\n",
      "12033/12033 [==============================] - 17s 1ms/step - loss: 111001616.0000 - mse: 111001616.0000\n",
      "Epoch 64/100\n",
      "12033/12033 [==============================] - 17s 1ms/step - loss: 111001752.0000 - mse: 111001752.0000\n",
      "Epoch 65/100\n",
      "12033/12033 [==============================] - 17s 1ms/step - loss: 111001824.0000 - mse: 111001824.0000\n",
      "Epoch 66/100\n",
      "12033/12033 [==============================] - 17s 1ms/step - loss: 111001744.0000 - mse: 111001744.0000\n",
      "Epoch 67/100\n",
      "12033/12033 [==============================] - 17s 1ms/step - loss: 111001912.0000 - mse: 111001912.0000\n",
      "Epoch 68/100\n",
      "12033/12033 [==============================] - 18s 1ms/step - loss: 111002216.0000 - mse: 111002216.0000\n",
      "Epoch 69/100\n",
      "12033/12033 [==============================] - 18s 1ms/step - loss: 111001912.0000 - mse: 111001912.0000\n",
      "Epoch 70/100\n"
     ]
    },
    {
     "name": "stdout",
     "output_type": "stream",
     "text": [
      "12033/12033 [==============================] - 17s 1ms/step - loss: 111001752.0000 - mse: 111001752.0000\n",
      "Epoch 71/100\n",
      "12033/12033 [==============================] - 17s 1ms/step - loss: 111001872.0000 - mse: 111001872.0000\n",
      "Epoch 72/100\n",
      "12033/12033 [==============================] - 17s 1ms/step - loss: 111001960.0000 - mse: 111001960.0000\n",
      "Epoch 73/100\n",
      "12033/12033 [==============================] - 17s 1ms/step - loss: 111002016.0000 - mse: 111002016.0000\n",
      "Epoch 74/100\n",
      "12033/12033 [==============================] - 17s 1ms/step - loss: 111001672.0000 - mse: 111001672.0000\n",
      "Epoch 75/100\n",
      "12033/12033 [==============================] - 17s 1ms/step - loss: 111002248.0000 - mse: 111002248.0000\n",
      "Epoch 76/100\n",
      "12033/12033 [==============================] - 17s 1ms/step - loss: 111001712.0000 - mse: 111001712.0000\n",
      "Epoch 77/100\n",
      "12033/12033 [==============================] - 17s 1ms/step - loss: 111001944.0000 - mse: 111001944.0000\n",
      "Epoch 78/100\n",
      "12033/12033 [==============================] - 17s 1ms/step - loss: 111001928.0000 - mse: 111001928.0000\n",
      "Epoch 79/100\n",
      "12033/12033 [==============================] - 17s 1ms/step - loss: 111001888.0000 - mse: 111001888.0000\n",
      "Epoch 80/100\n",
      "12033/12033 [==============================] - 17s 1ms/step - loss: 111001416.0000 - mse: 111001416.0000\n",
      "Epoch 81/100\n",
      "12033/12033 [==============================] - 18s 1ms/step - loss: 111001984.0000 - mse: 111001984.0000\n",
      "Epoch 82/100\n",
      "12033/12033 [==============================] - 17s 1ms/step - loss: 111002128.0000 - mse: 111002128.0000\n",
      "Epoch 83/100\n",
      "12033/12033 [==============================] - 17s 1ms/step - loss: 111001992.0000 - mse: 111001992.0000\n",
      "Epoch 84/100\n",
      "12033/12033 [==============================] - 17s 1ms/step - loss: 111001656.0000 - mse: 111001656.0000\n",
      "Epoch 85/100\n",
      "12033/12033 [==============================] - 17s 1ms/step - loss: 111001944.0000 - mse: 111001944.0000\n",
      "Epoch 86/100\n",
      "12033/12033 [==============================] - 17s 1ms/step - loss: 111002160.0000 - mse: 111002160.0000\n",
      "Epoch 87/100\n",
      "12033/12033 [==============================] - 17s 1ms/step - loss: 111002040.0000 - mse: 111002040.0000\n",
      "Epoch 88/100\n",
      "12033/12033 [==============================] - 16s 1ms/step - loss: 111001992.0000 - mse: 111001992.0000\n",
      "Epoch 89/100\n",
      "12033/12033 [==============================] - 16s 1ms/step - loss: 111002168.0000 - mse: 111002168.0000\n",
      "Epoch 90/100\n",
      "12033/12033 [==============================] - 17s 1ms/step - loss: 111001992.0000 - mse: 111001992.0000\n",
      "Epoch 91/100\n",
      "12033/12033 [==============================] - 17s 1ms/step - loss: 111001776.0000 - mse: 111001776.0000\n",
      "Epoch 92/100\n",
      "12033/12033 [==============================] - 17s 1ms/step - loss: 111001832.0000 - mse: 111001832.0000\n",
      "Epoch 93/100\n",
      "12033/12033 [==============================] - 18s 1ms/step - loss: 111002040.0000 - mse: 111002040.0000\n",
      "Epoch 94/100\n",
      "12033/12033 [==============================] - 17s 1ms/step - loss: 111001680.0000 - mse: 111001680.0000\n",
      "Epoch 95/100\n",
      "12033/12033 [==============================] - 17s 1ms/step - loss: 111001856.0000 - mse: 111001856.0000\n",
      "Epoch 96/100\n",
      "12033/12033 [==============================] - 17s 1ms/step - loss: 111002072.0000 - mse: 111002072.0000\n",
      "Epoch 97/100\n",
      "12033/12033 [==============================] - 16s 1ms/step - loss: 111001792.0000 - mse: 111001792.0000: 2s -\n",
      "Epoch 98/100\n",
      "12033/12033 [==============================] - 17s 1ms/step - loss: 111002104.0000 - mse: 111002104.0000\n",
      "Epoch 99/100\n",
      "12033/12033 [==============================] - 18s 1ms/step - loss: 111001896.0000 - mse: 111001896.0000\n",
      "Epoch 100/100\n",
      "12033/12033 [==============================] - 18s 1ms/step - loss: 111002080.0000 - mse: 111002080.0000\n",
      "\n",
      "ANN Regression\n",
      "Root Mean Squared Error: 10540.77%\n"
     ]
    }
   ],
   "source": [
    "# Build our ANN model\n",
    "import tensorflow as tf\n",
    "ann = tf.keras.models.Sequential()\n",
    "\n",
    "# Adding 2 hidden layers\n",
    "ann.add(tf.keras.layers.Dense(units = 3, activation = 'relu'))\n",
    "ann.add(tf.keras.layers.Dense(units = 3, activation = 'relu'))\n",
    "\n",
    "# Adding the output layer\n",
    "ann.add(tf.keras.layers.Dense(units=1, activation = 'sigmoid'))\n",
    "\n",
    "# Compiling our ann\n",
    "ann.compile(optimizer = 'adam', loss = 'mean_squared_error', metrics=['mse'])\n",
    "\n",
    "# Train our ANN model\n",
    "ann.fit(X_train, y_train, batch_size = 32, epochs = 100)\n",
    "\n",
    "y_pred = ann.predict(X_test)\n",
    "\n",
    "print()\n",
    "# ANN Regression\n",
    "print(\"ANN Regression\")\n",
    "# Root Mean Squared Error\n",
    "print(\"Root Mean Squared Error: {:.2f}%\".format(metrics.mean_squared_error(y_test, y_pred, squared=False)))\n",
    "ann_rmse = metrics.mean_squared_error(y_test, y_pred, squared=False)"
   ]
  }
 ],
 "metadata": {
  "kernelspec": {
   "display_name": "Python 3",
   "language": "python",
   "name": "python3"
  },
  "language_info": {
   "codemirror_mode": {
    "name": "ipython",
    "version": 3
   },
   "file_extension": ".py",
   "mimetype": "text/x-python",
   "name": "python",
   "nbconvert_exporter": "python",
   "pygments_lexer": "ipython3",
   "version": "3.8.8"
  }
 },
 "nbformat": 4,
 "nbformat_minor": 5
}

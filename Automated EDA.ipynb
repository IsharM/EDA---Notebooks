{
 "cells": [
  {
   "cell_type": "code",
   "execution_count": 2,
   "id": "b487e315",
   "metadata": {
    "scrolled": true
   },
   "outputs": [
    {
     "name": "stdout",
     "output_type": "stream",
     "text": [
      "Requirement already satisfied: pandas_profiling in c:\\users\\rklis\\anaconda3\\lib\\site-packages (3.1.0)\n",
      "Requirement already satisfied: joblib~=1.0.1 in c:\\users\\rklis\\anaconda3\\lib\\site-packages (from pandas_profiling) (1.0.1)\n",
      "Requirement already satisfied: pydantic>=1.8.1 in c:\\users\\rklis\\anaconda3\\lib\\site-packages (from pandas_profiling) (1.9.0)\n",
      "Requirement already satisfied: tangled-up-in-unicode==0.1.0 in c:\\users\\rklis\\anaconda3\\lib\\site-packages (from pandas_profiling) (0.1.0)\n",
      "Requirement already satisfied: tqdm>=4.48.2 in c:\\users\\rklis\\anaconda3\\lib\\site-packages (from pandas_profiling) (4.59.0)\n",
      "Requirement already satisfied: phik>=0.11.1 in c:\\users\\rklis\\anaconda3\\lib\\site-packages (from pandas_profiling) (0.12.0)\n",
      "Requirement already satisfied: requests>=2.24.0 in c:\\users\\rklis\\anaconda3\\lib\\site-packages (from pandas_profiling) (2.27.1)\n",
      "Requirement already satisfied: numpy>=1.16.0 in c:\\users\\rklis\\anaconda3\\lib\\site-packages (from pandas_profiling) (1.21.4)\n",
      "Requirement already satisfied: PyYAML>=5.0.0 in c:\\users\\rklis\\anaconda3\\lib\\site-packages (from pandas_profiling) (5.4.1)\n",
      "Requirement already satisfied: multimethod>=1.4 in c:\\users\\rklis\\anaconda3\\lib\\site-packages (from pandas_profiling) (1.7)\n",
      "Requirement already satisfied: scipy>=1.4.1 in c:\\users\\rklis\\anaconda3\\lib\\site-packages (from pandas_profiling) (1.6.2)\n",
      "Requirement already satisfied: matplotlib>=3.2.0 in c:\\users\\rklis\\anaconda3\\lib\\site-packages (from pandas_profiling) (3.3.4)\n",
      "Requirement already satisfied: visions[type_image_path]==0.7.4 in c:\\users\\rklis\\anaconda3\\lib\\site-packages (from pandas_profiling) (0.7.4)\n",
      "Requirement already satisfied: missingno>=0.4.2 in c:\\users\\rklis\\anaconda3\\lib\\site-packages (from pandas_profiling) (0.5.0)\n",
      "Requirement already satisfied: pandas!=1.0.0,!=1.0.1,!=1.0.2,!=1.1.0,>=0.25.3 in c:\\users\\rklis\\anaconda3\\lib\\site-packages (from pandas_profiling) (1.2.4)\n",
      "Requirement already satisfied: htmlmin>=0.1.12 in c:\\users\\rklis\\anaconda3\\lib\\site-packages (from pandas_profiling) (0.1.12)\n",
      "Requirement already satisfied: markupsafe~=2.0.1 in c:\\users\\rklis\\anaconda3\\lib\\site-packages (from pandas_profiling) (2.0.1)\n",
      "Requirement already satisfied: seaborn>=0.10.1 in c:\\users\\rklis\\anaconda3\\lib\\site-packages (from pandas_profiling) (0.11.1)\n",
      "Requirement already satisfied: jinja2>=2.11.1 in c:\\users\\rklis\\anaconda3\\lib\\site-packages (from pandas_profiling) (2.11.3)\n",
      "Requirement already satisfied: attrs>=19.3.0 in c:\\users\\rklis\\anaconda3\\lib\\site-packages (from visions[type_image_path]==0.7.4->pandas_profiling) (20.3.0)\n",
      "Requirement already satisfied: networkx>=2.4 in c:\\users\\rklis\\anaconda3\\lib\\site-packages (from visions[type_image_path]==0.7.4->pandas_profiling) (2.5)\n",
      "Requirement already satisfied: Pillow in c:\\users\\rklis\\anaconda3\\lib\\site-packages (from visions[type_image_path]==0.7.4->pandas_profiling) (8.2.0)\n",
      "Requirement already satisfied: imagehash in c:\\users\\rklis\\anaconda3\\lib\\site-packages (from visions[type_image_path]==0.7.4->pandas_profiling) (4.2.1)\n",
      "Requirement already satisfied: pyparsing!=2.0.4,!=2.1.2,!=2.1.6,>=2.0.3 in c:\\users\\rklis\\anaconda3\\lib\\site-packages (from matplotlib>=3.2.0->pandas_profiling) (2.4.7)\n",
      "Requirement already satisfied: python-dateutil>=2.1 in c:\\users\\rklis\\anaconda3\\lib\\site-packages (from matplotlib>=3.2.0->pandas_profiling) (2.8.1)\n",
      "Requirement already satisfied: cycler>=0.10 in c:\\users\\rklis\\anaconda3\\lib\\site-packages (from matplotlib>=3.2.0->pandas_profiling) (0.10.0)\n",
      "Requirement already satisfied: kiwisolver>=1.0.1 in c:\\users\\rklis\\anaconda3\\lib\\site-packages (from matplotlib>=3.2.0->pandas_profiling) (1.3.1)\n",
      "Requirement already satisfied: six in c:\\users\\rklis\\anaconda3\\lib\\site-packages (from cycler>=0.10->matplotlib>=3.2.0->pandas_profiling) (1.16.0)\n",
      "Requirement already satisfied: decorator>=4.3.0 in c:\\users\\rklis\\anaconda3\\lib\\site-packages (from networkx>=2.4->visions[type_image_path]==0.7.4->pandas_profiling) (5.0.6)\n",
      "Requirement already satisfied: pytz>=2017.3 in c:\\users\\rklis\\anaconda3\\lib\\site-packages (from pandas!=1.0.0,!=1.0.1,!=1.0.2,!=1.1.0,>=0.25.3->pandas_profiling) (2021.1)\n",
      "Requirement already satisfied: typing-extensions>=3.7.4.3 in c:\\users\\rklis\\anaconda3\\lib\\site-packages (from pydantic>=1.8.1->pandas_profiling) (4.0.1)\n",
      "Requirement already satisfied: idna<4,>=2.5 in c:\\users\\rklis\\anaconda3\\lib\\site-packages (from requests>=2.24.0->pandas_profiling) (3.3)\n",
      "Requirement already satisfied: charset-normalizer~=2.0.0 in c:\\users\\rklis\\anaconda3\\lib\\site-packages (from requests>=2.24.0->pandas_profiling) (2.0.9)\n",
      "Requirement already satisfied: certifi>=2017.4.17 in c:\\users\\rklis\\anaconda3\\lib\\site-packages (from requests>=2.24.0->pandas_profiling) (2021.10.8)\n",
      "Requirement already satisfied: urllib3<1.27,>=1.21.1 in c:\\users\\rklis\\anaconda3\\lib\\site-packages (from requests>=2.24.0->pandas_profiling) (1.26.7)\n",
      "Requirement already satisfied: PyWavelets in c:\\users\\rklis\\anaconda3\\lib\\site-packages (from imagehash->visions[type_image_path]==0.7.4->pandas_profiling) (1.1.1)\n"
     ]
    }
   ],
   "source": [
    "#!pip install pandas_profiling"
   ]
  },
  {
   "cell_type": "code",
   "execution_count": 3,
   "id": "da961676",
   "metadata": {},
   "outputs": [],
   "source": [
    "import pandas_profiling\n",
    "import seaborn as sns"
   ]
  },
  {
   "cell_type": "code",
   "execution_count": 4,
   "id": "84fc3c33",
   "metadata": {},
   "outputs": [],
   "source": [
    "df =sns.load_dataset('tips')"
   ]
  },
  {
   "cell_type": "code",
   "execution_count": 5,
   "id": "add13069",
   "metadata": {},
   "outputs": [],
   "source": [
    "from pandas_profiling import ProfileReport"
   ]
  },
  {
   "cell_type": "code",
   "execution_count": 6,
   "id": "3aa0ae63",
   "metadata": {},
   "outputs": [],
   "source": [
    "profile = ProfileReport(df,explorative=True,dark_mode=True)"
   ]
  },
  {
   "cell_type": "code",
   "execution_count": 7,
   "id": "62f0eeff",
   "metadata": {},
   "outputs": [
    {
     "data": {
      "application/vnd.jupyter.widget-view+json": {
       "model_id": "6485106d7f3d41febb5e871815eb6d43",
       "version_major": 2,
       "version_minor": 0
      },
      "text/plain": [
       "Summarize dataset:   0%|          | 0/5 [00:00<?, ?it/s]"
      ]
     },
     "metadata": {},
     "output_type": "display_data"
    },
    {
     "data": {
      "application/vnd.jupyter.widget-view+json": {
       "model_id": "27d1e5f1526b45a482896a276ee4bda2",
       "version_major": 2,
       "version_minor": 0
      },
      "text/plain": [
       "Generate report structure:   0%|          | 0/1 [00:00<?, ?it/s]"
      ]
     },
     "metadata": {},
     "output_type": "display_data"
    },
    {
     "data": {
      "application/vnd.jupyter.widget-view+json": {
       "model_id": "4fae734f5458450ba4498506e113cdbe",
       "version_major": 2,
       "version_minor": 0
      },
      "text/plain": [
       "Render HTML:   0%|          | 0/1 [00:00<?, ?it/s]"
      ]
     },
     "metadata": {},
     "output_type": "display_data"
    },
    {
     "data": {
      "application/vnd.jupyter.widget-view+json": {
       "model_id": "fdb4842727204edba40be855a44457e6",
       "version_major": 2,
       "version_minor": 0
      },
      "text/plain": [
       "Export report to file:   0%|          | 0/1 [00:00<?, ?it/s]"
      ]
     },
     "metadata": {},
     "output_type": "display_data"
    }
   ],
   "source": [
    "profile.to_file('output.html')"
   ]
  },
  {
   "cell_type": "code",
   "execution_count": 8,
   "id": "89c667df",
   "metadata": {},
   "outputs": [
    {
     "name": "stdout",
     "output_type": "stream",
     "text": [
      "Collecting dtale\n",
      "  Downloading dtale-2.0.0-py2.py3-none-any.whl (11.4 MB)\n",
      "Requirement already satisfied: seaborn in c:\\users\\rklis\\anaconda3\\lib\\site-packages (from dtale) (0.11.1)\n",
      "Requirement already satisfied: xlrd in c:\\users\\rklis\\anaconda3\\lib\\site-packages (from dtale) (2.0.1)\n",
      "Collecting Flask-Compress\n",
      "  Downloading Flask_Compress-1.10.1-py3-none-any.whl (7.9 kB)\n",
      "Requirement already satisfied: requests in c:\\users\\rklis\\anaconda3\\lib\\site-packages (from dtale) (2.27.1)\n",
      "Requirement already satisfied: networkx in c:\\users\\rklis\\anaconda3\\lib\\site-packages (from dtale) (2.5)\n",
      "Collecting scikit-learn==0.24.2\n",
      "  Downloading scikit_learn-0.24.2-cp38-cp38-win_amd64.whl (6.9 MB)\n",
      "Collecting squarify\n",
      "  Downloading squarify-0.4.3-py3-none-any.whl (4.3 kB)\n",
      "Requirement already satisfied: cycler in c:\\users\\rklis\\anaconda3\\lib\\site-packages (from dtale) (0.10.0)\n",
      "Collecting strsimpy\n",
      "  Downloading strsimpy-0.2.1-py3-none-any.whl (45 kB)\n",
      "Collecting dash>=2.0.0\n",
      "  Downloading dash-2.2.0-py3-none-any.whl (8.5 MB)\n",
      "Requirement already satisfied: numpy in c:\\users\\rklis\\anaconda3\\lib\\site-packages (from dtale) (1.21.4)\n",
      "Collecting xarray\n",
      "  Downloading xarray-0.21.1-py3-none-any.whl (865 kB)\n",
      "Collecting flask-ngrok\n",
      "  Downloading flask_ngrok-0.0.25-py3-none-any.whl (3.1 kB)\n",
      "Requirement already satisfied: scipy in c:\\users\\rklis\\anaconda3\\lib\\site-packages (from dtale) (1.6.2)\n",
      "Requirement already satisfied: openpyxl in c:\\users\\rklis\\anaconda3\\lib\\site-packages (from dtale) (3.0.7)\n",
      "Collecting plotly>=5.0.0\n",
      "  Downloading plotly-5.6.0-py2.py3-none-any.whl (27.7 MB)\n",
      "Collecting dash-daq\n",
      "  Downloading dash_daq-0.5.0.tar.gz (642 kB)\n",
      "Requirement already satisfied: itsdangerous in c:\\users\\rklis\\anaconda3\\lib\\site-packages (from dtale) (1.1.0)\n",
      "Collecting lz4\n",
      "  Downloading lz4-4.0.0-cp38-cp38-win_amd64.whl (96 kB)\n",
      "Requirement already satisfied: future>=0.14.0 in c:\\users\\rklis\\anaconda3\\lib\\site-packages (from dtale) (0.18.2)\n",
      "Collecting dash-colorscales\n",
      "  Downloading dash_colorscales-0.0.4.tar.gz (62 kB)\n",
      "Collecting dash-bootstrap-components\n",
      "  Downloading dash_bootstrap_components-1.0.3-py3-none-any.whl (209 kB)\n",
      "Requirement already satisfied: matplotlib in c:\\users\\rklis\\anaconda3\\lib\\site-packages (from dtale) (3.3.4)\n",
      "Collecting missingno<=0.4.2\n",
      "  Downloading missingno-0.4.2-py3-none-any.whl (9.7 kB)\n",
      "Collecting ppscore\n",
      "  Downloading ppscore-1.2.0.tar.gz (47 kB)\n",
      "Requirement already satisfied: pandas in c:\\users\\rklis\\anaconda3\\lib\\site-packages (from dtale) (1.2.4)\n",
      "Requirement already satisfied: statsmodels in c:\\users\\rklis\\anaconda3\\lib\\site-packages (from dtale) (0.12.2)\n",
      "Requirement already satisfied: six in c:\\users\\rklis\\anaconda3\\lib\\site-packages (from dtale) (1.16.0)\n",
      "Requirement already satisfied: Flask in c:\\users\\rklis\\anaconda3\\lib\\site-packages (from dtale) (1.1.2)\n",
      "Collecting kaleido\n",
      "  Downloading kaleido-0.2.1-py2.py3-none-win_amd64.whl (65.9 MB)\n",
      "Requirement already satisfied: et-xmlfile in c:\\users\\rklis\\anaconda3\\lib\\site-packages (from dtale) (1.0.1)\n",
      "Requirement already satisfied: threadpoolctl>=2.0.0 in c:\\users\\rklis\\anaconda3\\lib\\site-packages (from scikit-learn==0.24.2->dtale) (2.1.0)\n",
      "Requirement already satisfied: joblib>=0.11 in c:\\users\\rklis\\anaconda3\\lib\\site-packages (from scikit-learn==0.24.2->dtale) (1.0.1)\n",
      "Collecting dash-html-components==2.0.0\n",
      "  Downloading dash_html_components-2.0.0.tar.gz (3.8 kB)\n",
      "Collecting dash-table==5.0.0\n",
      "  Downloading dash_table-5.0.0.tar.gz (3.4 kB)\n",
      "Collecting dash-core-components==2.0.0\n",
      "  Downloading dash_core_components-2.0.0.tar.gz (3.4 kB)\n",
      "Requirement already satisfied: Werkzeug>=0.15 in c:\\users\\rklis\\anaconda3\\lib\\site-packages (from Flask->dtale) (2.0.2)\n",
      "Requirement already satisfied: Jinja2>=2.10.1 in c:\\users\\rklis\\anaconda3\\lib\\site-packages (from Flask->dtale) (2.11.3)\n",
      "Requirement already satisfied: click>=5.1 in c:\\users\\rklis\\anaconda3\\lib\\site-packages (from Flask->dtale) (7.1.2)\n",
      "Requirement already satisfied: MarkupSafe>=0.23 in c:\\users\\rklis\\anaconda3\\lib\\site-packages (from Jinja2>=2.10.1->Flask->dtale) (2.0.1)\n",
      "Collecting tenacity>=6.2.0\n",
      "  Downloading tenacity-8.0.1-py3-none-any.whl (24 kB)\n",
      "Collecting brotli\n",
      "  Downloading Brotli-1.0.9-cp38-cp38-win_amd64.whl (365 kB)\n",
      "Requirement already satisfied: pillow>=6.2.0 in c:\\users\\rklis\\anaconda3\\lib\\site-packages (from matplotlib->dtale) (8.2.0)\n",
      "Requirement already satisfied: kiwisolver>=1.0.1 in c:\\users\\rklis\\anaconda3\\lib\\site-packages (from matplotlib->dtale) (1.3.1)\n",
      "Requirement already satisfied: pyparsing!=2.0.4,!=2.1.2,!=2.1.6,>=2.0.3 in c:\\users\\rklis\\anaconda3\\lib\\site-packages (from matplotlib->dtale) (2.4.7)\n",
      "Requirement already satisfied: python-dateutil>=2.1 in c:\\users\\rklis\\anaconda3\\lib\\site-packages (from matplotlib->dtale) (2.8.1)\n",
      "Requirement already satisfied: decorator>=4.3.0 in c:\\users\\rklis\\anaconda3\\lib\\site-packages (from networkx->dtale) (5.0.6)\n",
      "Requirement already satisfied: pytz>=2017.3 in c:\\users\\rklis\\anaconda3\\lib\\site-packages (from pandas->dtale) (2021.1)\n",
      "Requirement already satisfied: idna<4,>=2.5 in c:\\users\\rklis\\anaconda3\\lib\\site-packages (from requests->dtale) (3.3)\n",
      "Requirement already satisfied: urllib3<1.27,>=1.21.1 in c:\\users\\rklis\\anaconda3\\lib\\site-packages (from requests->dtale) (1.26.7)\n",
      "Requirement already satisfied: charset-normalizer~=2.0.0 in c:\\users\\rklis\\anaconda3\\lib\\site-packages (from requests->dtale) (2.0.9)\n",
      "Requirement already satisfied: certifi>=2017.4.17 in c:\\users\\rklis\\anaconda3\\lib\\site-packages (from requests->dtale) (2021.10.8)\n",
      "Requirement already satisfied: patsy>=0.5 in c:\\users\\rklis\\anaconda3\\lib\\site-packages (from statsmodels->dtale) (0.5.1)\n",
      "Requirement already satisfied: packaging>=20.0 in c:\\users\\rklis\\anaconda3\\lib\\site-packages (from xarray->dtale) (20.9)\n",
      "Building wheels for collected packages: dash-core-components, dash-html-components, dash-table, dash-colorscales, dash-daq, ppscore\n",
      "  Building wheel for dash-core-components (setup.py): started\n",
      "  Building wheel for dash-core-components (setup.py): finished with status 'done'\n",
      "  Created wheel for dash-core-components: filename=dash_core_components-2.0.0-py3-none-any.whl size=3821 sha256=d4af50fd077d83ff08210041a8f3d71db05cb83782056010b9e348452f442d4b\n",
      "  Stored in directory: c:\\users\\rklis\\appdata\\local\\pip\\cache\\wheels\\52\\e4\\f3\\16724791571a955a46d54650510c98c04ab7d339626aee27cc\n",
      "  Building wheel for dash-html-components (setup.py): started\n",
      "  Building wheel for dash-html-components (setup.py): finished with status 'done'\n",
      "  Created wheel for dash-html-components: filename=dash_html_components-2.0.0-py3-none-any.whl size=4089 sha256=1647644b7b6b13a958a01328b3797ded55bec94add881306fdacb60703803d24\n",
      "  Stored in directory: c:\\users\\rklis\\appdata\\local\\pip\\cache\\wheels\\73\\d8\\8d\\92f612c03c895f19bcc56a6c54be7bb41aaa698012a5624f60\n",
      "  Building wheel for dash-table (setup.py): started\n",
      "  Building wheel for dash-table (setup.py): finished with status 'done'\n",
      "  Created wheel for dash-table: filename=dash_table-5.0.0-py3-none-any.whl size=3911 sha256=d71ce0fc29c684b5df93cf7c2c69caa6aca0edbf254efb34d97c046709332c78\n",
      "  Stored in directory: c:\\users\\rklis\\appdata\\local\\pip\\cache\\wheels\\a6\\fb\\f5\\4adf241f384634f52028f15eab6a325e77b8766a0a00816bbf\n",
      "  Building wheel for dash-colorscales (setup.py): started\n",
      "  Building wheel for dash-colorscales (setup.py): finished with status 'done'\n",
      "  Created wheel for dash-colorscales: filename=dash_colorscales-0.0.4-py3-none-any.whl size=62589 sha256=d82fd4bfc0946c930c50d7ccd4eefc5304e8c8014f4c6f43f9c7a4ecf4d1ca54\n",
      "  Stored in directory: c:\\users\\rklis\\appdata\\local\\pip\\cache\\wheels\\fe\\33\\33\\172dbfe1efc739352828854a113df599a428b58f68ed0c4f75\n",
      "  Building wheel for dash-daq (setup.py): started\n",
      "  Building wheel for dash-daq (setup.py): finished with status 'done'\n",
      "  Created wheel for dash-daq: filename=dash_daq-0.5.0-py3-none-any.whl size=669716 sha256=d367b21ec7d9c4b9ebdfa8e5cc75e1798cbac1f2d36cbca1783112a0090231ef\n",
      "  Stored in directory: c:\\users\\rklis\\appdata\\local\\pip\\cache\\wheels\\00\\35\\e5\\57e90f10c529601c6627400513cb65dd5adb09752411f5a050\n",
      "  Building wheel for ppscore (setup.py): started\n",
      "  Building wheel for ppscore (setup.py): finished with status 'done'\n",
      "  Created wheel for ppscore: filename=ppscore-1.2.0-py2.py3-none-any.whl size=13068 sha256=80dafad8f19732af3fb0850f02c2e2077f8b8c37f42e3591ea11bd3a15428eff\n",
      "  Stored in directory: c:\\users\\rklis\\appdata\\local\\pip\\cache\\wheels\\fb\\0e\\65\\da65ce669381fc01b6ef990d301d3586991f89bff1175877a4\n",
      "Successfully built dash-core-components dash-html-components dash-table dash-colorscales dash-daq ppscore\n",
      "Installing collected packages: tenacity, brotli, plotly, Flask-Compress, dash-table, dash-html-components, dash-core-components, scikit-learn, dash, xarray, strsimpy, squarify, ppscore, missingno, lz4, kaleido, flask-ngrok, dash-daq, dash-colorscales, dash-bootstrap-components, dtale\n",
      "  Attempting uninstall: scikit-learn\n",
      "    Found existing installation: scikit-learn 0.24.1\n",
      "    Uninstalling scikit-learn-0.24.1:\n",
      "      Successfully uninstalled scikit-learn-0.24.1\n",
      "  Attempting uninstall: missingno\n",
      "    Found existing installation: missingno 0.5.0\n",
      "    Uninstalling missingno-0.5.0:\n",
      "      Successfully uninstalled missingno-0.5.0\n",
      "Successfully installed Flask-Compress-1.10.1 brotli-1.0.9 dash-2.2.0 dash-bootstrap-components-1.0.3 dash-colorscales-0.0.4 dash-core-components-2.0.0 dash-daq-0.5.0 dash-html-components-2.0.0 dash-table-5.0.0 dtale-2.0.0 flask-ngrok-0.0.25 kaleido-0.2.1 lz4-4.0.0 missingno-0.4.2 plotly-5.6.0 ppscore-1.2.0 scikit-learn-0.24.2 squarify-0.4.3 strsimpy-0.2.1 tenacity-8.0.1 xarray-0.21.1\n"
     ]
    }
   ],
   "source": [
    "#!pip install dtale"
   ]
  },
  {
   "cell_type": "code",
   "execution_count": 9,
   "id": "07d9fc2c",
   "metadata": {},
   "outputs": [],
   "source": [
    "import pandas as pd"
   ]
  },
  {
   "cell_type": "code",
   "execution_count": 10,
   "id": "36463d4f",
   "metadata": {},
   "outputs": [],
   "source": [
    "dfT = sns.load_dataset('titanic')"
   ]
  },
  {
   "cell_type": "code",
   "execution_count": 11,
   "id": "d34c4913",
   "metadata": {},
   "outputs": [],
   "source": [
    "import dtale"
   ]
  },
  {
   "cell_type": "code",
   "execution_count": 12,
   "id": "bbc03579",
   "metadata": {},
   "outputs": [
    {
     "data": {
      "text/html": [
       "\n",
       "        <iframe\n",
       "            width=\"100%\"\n",
       "            height=\"475\"\n",
       "            src=\"http://ISHAR-RIG:40000/dtale/iframe/1\"\n",
       "            frameborder=\"0\"\n",
       "            allowfullscreen\n",
       "        ></iframe>\n",
       "        "
      ],
      "text/plain": [
       "<IPython.lib.display.IFrame at 0x254df1759d0>"
      ]
     },
     "metadata": {},
     "output_type": "display_data"
    },
    {
     "data": {
      "text/plain": []
     },
     "execution_count": 12,
     "metadata": {},
     "output_type": "execute_result"
    }
   ],
   "source": [
    "dtale.show(dfT)"
   ]
  }
 ],
 "metadata": {
  "kernelspec": {
   "display_name": "Python 3",
   "language": "python",
   "name": "python3"
  },
  "language_info": {
   "codemirror_mode": {
    "name": "ipython",
    "version": 3
   },
   "file_extension": ".py",
   "mimetype": "text/x-python",
   "name": "python",
   "nbconvert_exporter": "python",
   "pygments_lexer": "ipython3",
   "version": "3.8.8"
  }
 },
 "nbformat": 4,
 "nbformat_minor": 5
}
